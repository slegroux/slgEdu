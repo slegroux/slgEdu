{
 "cells": [
  {
   "cell_type": "code",
   "execution_count": 18,
   "metadata": {
    "collapsed": true
   },
   "outputs": [],
   "source": [
    "import tensorflow as tf\n",
    "import tensorflow.examples.tutorials.mnist.input_data as input_data\n",
    "from libs.datasets import MNIST\n",
    "import os\n",
    "import pandas as pd\n",
    "from libs.utils import montage\n",
    "from libs import gif\n",
    "from sklearn.model_selection import train_test_split\n",
    "from sklearn.linear_model import LogisticRegressionCV, LogisticRegression\n",
    "from sklearn import preprocessing\n",
    "from six.moves import cPickle as pickle\n",
    "import seaborn as sns\n",
    "%matplotlib inline"
   ]
  },
  {
   "cell_type": "markdown",
   "metadata": {},
   "source": [
    "# Data"
   ]
  },
  {
   "cell_type": "code",
   "execution_count": 22,
   "metadata": {
    "collapsed": false
   },
   "outputs": [
    {
     "name": "stdout",
     "output_type": "stream",
     "text": [
      "['db/notMNIST_large/A/a29ydW5pc2hpLnR0Zg==.png', 'db/notMNIST_large/A/a2F6b28udHRm.png', 'db/notMNIST_large/A/a2FkZW4udHRm.png', 'db/notMNIST_large/A/a2FpcmVlLnR0Zg==.png', 'db/notMNIST_large/A/a2Fua2FuYSBLLnR0Zg==.png'] ['A', 'A', 'A', 'A', 'A'] 529119\n",
      "529119\n"
     ]
    }
   ],
   "source": [
    "rootdir = \"db/notMNIST_large/\"\n",
    "image_names = []\n",
    "labels = []\n",
    "[subdirs for subdirs in os.listdir(rootdir)]\n",
    "#[img for img in os.listdir(d) if img.endswith('png')]\n",
    "for dirpath, dirname, files in os.walk(rootdir):\n",
    "    for f in files:\n",
    "        if f.endswith('.png'):\n",
    "            image_names.append(os.path.join(dirpath,f))\n",
    "            labels.append(dirpath.split('/')[2])\n",
    "print image_names[:5], labels[:5], len(image_names)\n",
    "print len(image_names)"
   ]
  },
  {
   "cell_type": "markdown",
   "metadata": {},
   "source": [
    "### Save name data"
   ]
  },
  {
   "cell_type": "code",
   "execution_count": 23,
   "metadata": {
    "collapsed": false
   },
   "outputs": [],
   "source": [
    "def do_pickle(dataset, set_filename):\n",
    "    try:\n",
    "        with open(set_filename, 'wb') as f:\n",
    "            pickle.dump(dataset, f, pickle.HIGHEST_PROTOCOL)\n",
    "    except Exception as e:\n",
    "        print('Unable to save data to', set_filename, ':', e)\n",
    "\n",
    "do_pickle([image_names, labels], \"data_names.pkl\")"
   ]
  },
  {
   "cell_type": "markdown",
   "metadata": {},
   "source": [
    "### Load name data"
   ]
  },
  {
   "cell_type": "code",
   "execution_count": 24,
   "metadata": {
    "collapsed": false
   },
   "outputs": [
    {
     "name": "stdout",
     "output_type": "stream",
     "text": [
      "529119 529119\n"
     ]
    }
   ],
   "source": [
    "pickle_file = 'data_names.pkl'\n",
    "def do_unpickle(pickle_file):\n",
    "    with open(pickle_file, 'rb') as f:\n",
    "        data = pickle.load(f)\n",
    "    return data\n",
    "\n",
    "[image_names, labels] = do_unpickle(pickle_file)\n",
    "print len(image_names), len(labels)"
   ]
  },
  {
   "cell_type": "markdown",
   "metadata": {},
   "source": [
    "### Read dataset"
   ]
  },
  {
   "cell_type": "code",
   "execution_count": 87,
   "metadata": {
    "collapsed": false
   },
   "outputs": [],
   "source": [
    "def load_data(number_of_images=1000):\n",
    "    data = []\n",
    "    target = []\n",
    "    for i in range(1, number_of_images + 1):\n",
    "        rand_int = np.random.randint(0,len(image_names))\n",
    "        img_name = image_names[rand_int]\n",
    "        label = labels[rand_int]\n",
    "        try:\n",
    "            img = plt.imread(img_name)\n",
    "        except:\n",
    "            continue\n",
    "        data.append(img)\n",
    "        target.append(label)\n",
    "    #     plt.subplot(number_of_images,1,i)\n",
    "    #     plt.imshow(img)\n",
    "    #     plt.ylabel(label)\n",
    "    return np.array(data), target\n",
    "\n",
    "N = 5000\n",
    "tensor_data, target = load_data(N)"
   ]
  },
  {
   "cell_type": "code",
   "execution_count": 88,
   "metadata": {
    "collapsed": false
   },
   "outputs": [
    {
     "name": "stdout",
     "output_type": "stream",
     "text": [
      "data shape: (5000, 28, 28)\n",
      "target shape: 5000\n"
     ]
    }
   ],
   "source": [
    "print \"data shape:\", tensor_data.shape\n",
    "print \"target shape:\", len(target)"
   ]
  },
  {
   "cell_type": "markdown",
   "metadata": {},
   "source": [
    "### Save image data"
   ]
  },
  {
   "cell_type": "code",
   "execution_count": 89,
   "metadata": {
    "collapsed": false
   },
   "outputs": [],
   "source": [
    "do_pickle([tensor_data, target], \"tensor_data.pkl\")"
   ]
  },
  {
   "cell_type": "markdown",
   "metadata": {},
   "source": [
    "### Load pickled image data"
   ]
  },
  {
   "cell_type": "code",
   "execution_count": 90,
   "metadata": {
    "collapsed": false
   },
   "outputs": [
    {
     "name": "stdout",
     "output_type": "stream",
     "text": [
      "5000 5000\n"
     ]
    }
   ],
   "source": [
    "pickle_file = 'tensor_data.pkl'\n",
    "[tensor_data, target] = do_unpickle(pickle_file)\n",
    "print len(tensor_data), len(target)"
   ]
  },
  {
   "cell_type": "markdown",
   "metadata": {},
   "source": [
    "# Pre-processing"
   ]
  },
  {
   "cell_type": "markdown",
   "metadata": {},
   "source": [
    "### Features"
   ]
  },
  {
   "cell_type": "code",
   "execution_count": 91,
   "metadata": {
    "collapsed": false
   },
   "outputs": [
    {
     "name": "stdout",
     "output_type": "stream",
     "text": [
      "J\n",
      "(5000, 784)\n"
     ]
    },
    {
     "data": {
      "image/png": "[encoded data removed]",
      "text/plain": [
       "<matplotlib.figure.Figure at 0x120adc990>"
      ]
     },
     "metadata": {},
     "output_type": "display_data"
    }
   ],
   "source": [
    "X = tensor_data.reshape([N,28*28])\n",
    "y = target\n",
    "img = X[0].reshape((28,28))\n",
    "print target[89]\n",
    "plt.imshow(img)\n",
    "print X.shape"
   ]
  },
  {
   "cell_type": "code",
   "execution_count": 92,
   "metadata": {
    "collapsed": false
   },
   "outputs": [
    {
     "name": "stdout",
     "output_type": "stream",
     "text": [
      "(5000, 784)\n",
      "mean: -2.33630743196e-07 std: 1.0\n"
     ]
    },
    {
     "data": {
      "image/png": "[encoded data removed]",
      "text/plain": [
       "<matplotlib.figure.Figure at 0x11de39210>"
      ]
     },
     "metadata": {},
     "output_type": "display_data"
    }
   ],
   "source": [
    "scaler = preprocessing.StandardScaler().fit(X)\n",
    "X_scaled = scaler.transform(X)\n",
    "print X_scaled.shape\n",
    "plt.imshow(X_scaled[0].reshape(28,28))\n",
    "print \"mean: {} std: {}\".format(X_scaled.mean(), X_scaled.std())"
   ]
  },
  {
   "cell_type": "code",
   "execution_count": 93,
   "metadata": {
    "collapsed": false
   },
   "outputs": [
    {
     "name": "stdout",
     "output_type": "stream",
     "text": [
      "key:  A #: 485\n",
      "key:  C #: 504\n",
      "key:  B #: 502\n",
      "key:  E #: 533\n",
      "key:  D #: 476\n",
      "key:  G #: 495\n",
      "key:  F #: 519\n",
      "key:  I #: 483\n",
      "key:  H #: 519\n",
      "key:  J #: 484\n"
     ]
    },
    {
     "data": {
      "text/plain": [
       "<matplotlib.axes._subplots.AxesSubplot at 0x125ebe5d0>"
      ]
     },
     "execution_count": 93,
     "metadata": {},
     "output_type": "execute_result"
    },
    {
     "data": {
      "image/png": "[encoded data removed]",
      "text/plain": [
       "<matplotlib.figure.Figure at 0x12377db10>"
      ]
     },
     "metadata": {},
     "output_type": "display_data"
    }
   ],
   "source": [
    "counter_dict = {}\n",
    "for el in y:\n",
    "    if el in counter_dict:\n",
    "        counter_dict[el] += 1\n",
    "    else:\n",
    "        counter_dict[el] = 1\n",
    "\n",
    "for key in counter_dict:\n",
    "    print \"key: \", key, \"#:\", counter_dict[key]\n",
    "\n",
    "df = pd.DataFrame(data = y, columns=['y'])\n",
    "# df.y.value_counts().plot(kind='bar')\n",
    "sns.countplot(x=df.y, data=df)"
   ]
  },
  {
   "cell_type": "markdown",
   "metadata": {},
   "source": [
    "### Labels"
   ]
  },
  {
   "cell_type": "code",
   "execution_count": 30,
   "metadata": {
    "collapsed": true
   },
   "outputs": [],
   "source": [
    "# # binarize labels\n",
    "# y = target\n",
    "# label_encoder = preprocessing.LabelBinarizer()\n",
    "# label_encoder.fit(y)\n",
    "# print \"classes:\", label_encoder.classes_\n",
    "# encoded = label_encoder.transform(y)\n",
    "# original = label_encoder.inverse_transform(encoded)\n",
    "# print encoded[0], original[0]\n",
    "# y = encoded"
   ]
  },
  {
   "cell_type": "markdown",
   "metadata": {},
   "source": [
    "# Test/train/validation split"
   ]
  },
  {
   "cell_type": "code",
   "execution_count": 94,
   "metadata": {
    "collapsed": false
   },
   "outputs": [
    {
     "name": "stdout",
     "output_type": "stream",
     "text": [
      "unique classes:  ['A' 'B' 'C' 'D' 'E' 'F' 'G' 'H' 'I' 'J']\n",
      "number of classes: 10\n",
      "(4000, 784) (500, 784) (500, 784)\n",
      "(4000,) (500,) (500,)\n"
     ]
    }
   ],
   "source": [
    "X_train, X_test, y_train, y_test = train_test_split(X_scaled, y, test_size=0.10, stratify = y)\n",
    "X_train, X_validation, y_train, y_validation = train_test_split(X_train, y_train, test_size=10/90., stratify=y_train)\n",
    "print \"unique classes: \", np.unique(target)\n",
    "print \"number of classes:\", len(np.unique(target))\n",
    "print np.shape(X_train), np.shape(X_test), np.shape(X_validation)\n",
    "print np.shape(y_train), np.shape(y_test), np.shape(y_validation)"
   ]
  },
  {
   "cell_type": "code",
   "execution_count": 31,
   "metadata": {
    "collapsed": false
   },
   "outputs": [],
   "source": [
    "# plt.figure()\n",
    "# plt.title('train')\n",
    "# train = label_encoder.inverse_transform(y_train)\n",
    "# df = pd.DataFrame(data = train, columns=['train'])\n",
    "# # df.train.value_counts().plot(kind='bar')\n",
    "# order = (\"A\", \"B\", \"C\", \"D\", \"E\", \"F\", \"G\", \"H\", \"I\", \"J\")\n",
    "# sns.countplot(x=df.train, data=df, order=order)\n",
    "\n",
    "# plt.figure()\n",
    "# plt.title('test')\n",
    "# test = label_encoder.inverse_transform(y_test)\n",
    "# df = pd.DataFrame(data = test, columns=['test'])\n",
    "# # df.test.value_counts().plot(kind='bar')\n",
    "# sns.countplot(x=df.test, data=df, order=order)\n",
    "\n",
    "# plt.figure()\n",
    "# plt.title('validation')\n",
    "# validation = label_encoder.inverse_transform(y_validation)\n",
    "# df = pd.DataFrame(data = validation, columns=['validation'])\n",
    "# sns.countplot(x=df.validation, data=df, order=order)"
   ]
  },
  {
   "cell_type": "markdown",
   "metadata": {},
   "source": [
    "### Save/load data splits"
   ]
  },
  {
   "cell_type": "code",
   "execution_count": 98,
   "metadata": {
    "collapsed": false
   },
   "outputs": [],
   "source": [
    "data = {}\n",
    "# data['train'] = [X_train, y_train]\n",
    "# data['test'] = [X_test, y_test]\n",
    "# data['validation'] = [X_validation, y_validation]\n",
    "data['scaler'] = scaler\n",
    "data['X_scaled'] = X_scaled\n",
    "data['y'] = y\n",
    "do_pickle(data,\"processed_data.pkl\")"
   ]
  },
  {
   "cell_type": "code",
   "execution_count": 99,
   "metadata": {
    "collapsed": true
   },
   "outputs": [],
   "source": [
    "data = do_unpickle(\"processed_data.pkl\")\n",
    "# [X_train, y_train] = data['train']\n",
    "# [X_test, y_test] = data['test']\n",
    "# [X_validation, y_validation] = data['validation']\n",
    "scaler = data['scaler']\n",
    "y = data['y']\n",
    "X_scaled = data['X_scaled']"
   ]
  },
  {
   "cell_type": "markdown",
   "metadata": {},
   "source": [
    "# Logit classification (sklearn)"
   ]
  },
  {
   "cell_type": "code",
   "execution_count": 67,
   "metadata": {
    "collapsed": false
   },
   "outputs": [
    {
     "name": "stdout",
     "output_type": "stream",
     "text": [
      "0.9940625\n",
      "0.715\n",
      "0.7\n"
     ]
    }
   ],
   "source": [
    "logreg = LogisticRegression()#C=1e5)\n",
    "logreg.fit(X_train,y_train)\n",
    "print logreg.score(X_train, y_train)\n",
    "print logreg.score(X_test, y_test)\n",
    "print logreg.score(X_validation, y_validation)"
   ]
  },
  {
   "cell_type": "code",
   "execution_count": 42,
   "metadata": {
    "collapsed": false
   },
   "outputs": [
    {
     "name": "stdout",
     "output_type": "stream",
     "text": [
      "1.0\n",
      "0.6\n",
      "0.62\n"
     ]
    }
   ],
   "source": [
    "N = 50\n",
    "def train_logit(N):\n",
    "    logreg = LogisticRegression()#C=1e5)\n",
    "    logreg.fit(X_train[:N],y_train[:N])\n",
    "    print logreg.score(X_train[:N], y_train[:N])\n",
    "    print logreg.score(X_validation[:N], y_validation[:N])\n",
    "    print logreg.score(X_test[:N], y_test[:N])\n",
    "\n",
    "train_logit(N)"
   ]
  },
  {
   "cell_type": "code",
   "execution_count": 43,
   "metadata": {
    "collapsed": false
   },
   "outputs": [
    {
     "name": "stdout",
     "output_type": "stream",
     "text": [
      "1.0\n",
      "0.64\n",
      "0.63\n"
     ]
    }
   ],
   "source": [
    "N = 100\n",
    "train_logit(N)"
   ]
  },
  {
   "cell_type": "code",
   "execution_count": 44,
   "metadata": {
    "collapsed": false
   },
   "outputs": [
    {
     "name": "stdout",
     "output_type": "stream",
     "text": [
      "0.997\n",
      "0.756666666667\n",
      "0.713333333333\n"
     ]
    }
   ],
   "source": [
    "N = 1000\n",
    "train_logit(N)"
   ]
  },
  {
   "cell_type": "code",
   "execution_count": 45,
   "metadata": {
    "collapsed": false
   },
   "outputs": [
    {
     "name": "stdout",
     "output_type": "stream",
     "text": [
      "0.994583333333\n",
      "0.76\n",
      "0.696666666667\n"
     ]
    }
   ],
   "source": [
    "N = 5000\n",
    "train_logit(N)"
   ]
  },
  {
   "cell_type": "markdown",
   "metadata": {},
   "source": [
    "# Deep Learning"
   ]
  },
  {
   "cell_type": "code",
   "execution_count": 128,
   "metadata": {
    "collapsed": false
   },
   "outputs": [
    {
     "name": "stdout",
     "output_type": "stream",
     "text": [
      "(5000, 784)\n"
     ]
    }
   ],
   "source": [
    "image_size = 28\n",
    "num_labels = 10\n",
    "N = 5000\n",
    "\n",
    "# load saved data\n",
    "data = do_unpickle(\"processed_data.pkl\")\n",
    "X_scaled = data['X_scaled']\n",
    "y= data['y']\n",
    "scaler = data['scaler']\n",
    "print X_scaled.shape"
   ]
  },
  {
   "cell_type": "code",
   "execution_count": 125,
   "metadata": {
    "collapsed": false
   },
   "outputs": [
    {
     "name": "stdout",
     "output_type": "stream",
     "text": [
      "B\n"
     ]
    },
    {
     "data": {
      "image/png": "[encoded data removed]",
      "text/plain": [
       "<matplotlib.figure.Figure at 0x11f7f5d50>"
      ]
     },
     "metadata": {},
     "output_type": "display_data"
    }
   ],
   "source": [
    "plt.imshow(X_scaled[10].reshape(image_size, image_size))\n",
    "print y[10]"
   ]
  },
  {
   "cell_type": "code",
   "execution_count": 129,
   "metadata": {
    "collapsed": false
   },
   "outputs": [
    {
     "name": "stdout",
     "output_type": "stream",
     "text": [
      "classes: ['A' 'B' 'C' 'D' 'E' 'F' 'G' 'H' 'I' 'J']\n",
      "encoded and original: [0 1 0 0 0 0 0 0 0 0] B\n"
     ]
    }
   ],
   "source": [
    "# binarize labels\n",
    "label_encoder = preprocessing.LabelBinarizer()\n",
    "label_encoder.fit(y)\n",
    "print \"classes:\", label_encoder.classes_\n",
    "encoded = label_encoder.transform(y)\n",
    "original = label_encoder.inverse_transform(encoded)\n",
    "print \"encoded and original:\", encoded[10], original[10]"
   ]
  },
  {
   "cell_type": "code",
   "execution_count": 130,
   "metadata": {
    "collapsed": false
   },
   "outputs": [
    {
     "name": "stdout",
     "output_type": "stream",
     "text": [
      "training size: (4000, 784) testing size: (500, 784) validation size: (500, 784)\n",
      "training label size: (4000, 10)\n"
     ]
    }
   ],
   "source": [
    "X_train, X_test, y_train, y_test = train_test_split(X_scaled, encoded, test_size=0.10, stratify=encoded)\n",
    "X_train, X_validation, y_train, y_validation = train_test_split(X_train, y_train, test_size=10/90., stratify=y_train)\n",
    "print \"training size:\", X_train.shape, \"testing size:\", X_test.shape, \"validation size:\", X_validation.shape\n",
    "print \"training label size:\", np.shape(y_train)"
   ]
  },
  {
   "cell_type": "code",
   "execution_count": 132,
   "metadata": {
    "collapsed": true
   },
   "outputs": [],
   "source": [
    "data = {}\n",
    "data['train'] = [X_train, y_train]\n",
    "data['test'] = [X_test, y_test]\n",
    "data['validation'] = [X_validation, y_validation]\n",
    "data['scaler'] = scaler\n",
    "data['label_encoder'] = label_encoder\n",
    "data['X_scaled'] = X_scaled\n",
    "data['y_'] = encoded\n",
    "data['y'] = y\n",
    "do_pickle(data,\"processed_data_binarized_labels.pkl\")"
   ]
  },
  {
   "cell_type": "code",
   "execution_count": 137,
   "metadata": {
    "collapsed": false
   },
   "outputs": [],
   "source": [
    "data = do_unpickle(\"processed_data_binarized_labels.pkl\")\n",
    "[X_train, y_train] = data['train']\n",
    "[X_test, y_test] = data['test']\n",
    "[X_validation, y_validation] = data['validation']\n",
    "scaler = data['scaler']\n",
    "label_encoder = data['label_encoder']\n",
    "y = data['y']\n",
    "y_ = data['y_']"
   ]
  },
  {
   "cell_type": "code",
   "execution_count": 138,
   "metadata": {
    "collapsed": false
   },
   "outputs": [
    {
     "name": "stdout",
     "output_type": "stream",
     "text": [
      "[0 0 0 0 1 0 0 0 0 0] E\n"
     ]
    }
   ],
   "source": [
    "print y_[0], y[0]"
   ]
  },
  {
   "cell_type": "code",
   "execution_count": 139,
   "metadata": {
    "collapsed": false
   },
   "outputs": [
    {
     "data": {
      "text/plain": [
       "<matplotlib.axes._subplots.AxesSubplot at 0x125d48950>"
      ]
     },
     "execution_count": 139,
     "metadata": {},
     "output_type": "execute_result"
    },
    {
     "data": {
      "image/png": "[encoded data removed]",
      "text/plain": [
       "<matplotlib.figure.Figure at 0x120f75f90>"
      ]
     },
     "metadata": {},
     "output_type": "display_data"
    },
    {
     "data": {
      "image/png": "[encoded data removed]",
      "text/plain": [
       "<matplotlib.figure.Figure at 0x125895150>"
      ]
     },
     "metadata": {},
     "output_type": "display_data"
    },
    {
     "data": {
      "image/png": "[encoded data removed]",
      "text/plain": [
       "<matplotlib.figure.Figure at 0x125d48890>"
      ]
     },
     "metadata": {},
     "output_type": "display_data"
    }
   ],
   "source": [
    "plt.figure()\n",
    "plt.title('train')\n",
    "train = label_encoder.inverse_transform(y_train)\n",
    "df = pd.DataFrame(data = train, columns=['train'])\n",
    "# df.train.value_counts().plot(kind='bar')\n",
    "order = (\"A\", \"B\", \"C\", \"D\", \"E\", \"F\", \"G\", \"H\", \"I\", \"J\")\n",
    "sns.countplot(x=df.train, data=df, order=order)\n",
    "\n",
    "plt.figure()\n",
    "plt.title('test')\n",
    "test = label_encoder.inverse_transform(y_test)\n",
    "df = pd.DataFrame(data = test, columns=['test'])\n",
    "# df.test.value_counts().plot(kind='bar')\n",
    "sns.countplot(x=df.test, data=df, order=order)\n",
    "\n",
    "plt.figure()\n",
    "plt.title('validation')\n",
    "validation = label_encoder.inverse_transform(y_validation)\n",
    "df = pd.DataFrame(data = validation, columns=['validation'])\n",
    "sns.countplot(x=df.validation, data=df, order=order)"
   ]
  },
  {
   "cell_type": "markdown",
   "metadata": {},
   "source": [
    "# Logit batch gradient training with TF"
   ]
  },
  {
   "cell_type": "code",
   "execution_count": 159,
   "metadata": {
    "collapsed": false
   },
   "outputs": [],
   "source": [
    "train_subset = 4000\n",
    "graph = tf.Graph()\n",
    "with graph.as_default():\n",
    "    tf_train_dataset = tf.constant(X_train[:train_subset, :])\n",
    "    tf_train_labels = tf.constant(y_train[:train_subset])\n",
    "    tf_valid_dataset = tf.constant(X_validation)\n",
    "    tf_test_dataset = tf.constant(X_test)\n",
    "    weights = tf.Variable(\n",
    "        tf.truncated_normal([image_size * image_size, num_labels])\n",
    "    )\n",
    "    biases = tf.Variable(tf.zeros([num_labels]))\n",
    "    logits = tf.matmul(tf_train_dataset, weights) + biases\n",
    "    loss = tf.reduce_mean(tf.nn.softmax_cross_entropy_with_logits(labels=tf_train_labels, logits=logits))\n",
    "    optimizer = tf.train.GradientDescentOptimizer(0.5).minimize(loss)\n",
    "    train_prediction = tf.nn.softmax(logits)\n",
    "    valid_prediction = tf.nn.softmax(\n",
    "    tf.matmul(tf_valid_dataset, weights) + biases\n",
    "    )\n",
    "    test_prediction = tf.nn.softmax(tf.matmul(tf_test_dataset, weights) + biases)"
   ]
  },
  {
   "cell_type": "markdown",
   "metadata": {},
   "source": []
  },
  {
   "cell_type": "code",
   "execution_count": 160,
   "metadata": {
    "collapsed": false
   },
   "outputs": [
    {
     "name": "stdout",
     "output_type": "stream",
     "text": [
      "Initialized\n",
      "Loss at step 0: 41.018246\n",
      "Training accuracy: 5.8%\n",
      "Validation accuracy: 16.4%\n",
      "Loss at step 100: 2.128029\n",
      "Training accuracy: 82.3%\n",
      "Validation accuracy: 77.2%\n",
      "Loss at step 200: 1.181567\n",
      "Training accuracy: 88.7%\n",
      "Validation accuracy: 81.0%\n",
      "Loss at step 300: 0.800124\n",
      "Training accuracy: 91.8%\n",
      "Validation accuracy: 85.2%\n",
      "Loss at step 400: 0.582806\n",
      "Training accuracy: 93.9%\n",
      "Validation accuracy: 86.4%\n",
      "Loss at step 500: 0.436629\n",
      "Training accuracy: 95.1%\n",
      "Validation accuracy: 88.6%\n",
      "Loss at step 600: 0.331199\n",
      "Training accuracy: 96.2%\n",
      "Validation accuracy: 89.2%\n",
      "Loss at step 700: 0.256692\n",
      "Training accuracy: 97.2%\n",
      "Validation accuracy: 90.4%\n",
      "Loss at step 800: 0.203516\n",
      "Training accuracy: 97.7%\n",
      "Validation accuracy: 90.6%\n",
      "Test accuracy: 82.6%\n"
     ]
    }
   ],
   "source": [
    "num_steps = 801\n",
    "\n",
    "def accuracy(predictions, labels):\n",
    "    return (100.0 * np.sum(np.argmax(predictions, 1) == np.argmax(labels, 1))\n",
    "          / predictions.shape[0])\n",
    "\n",
    "with tf.Session(graph=graph) as session:\n",
    "    tf.global_variables_initializer().run()\n",
    "    print('Initialized')\n",
    "    for step in range(num_steps):\n",
    "        # Run the computations. We tell .run() that we want to run the optimizer,\n",
    "        # and get the loss value and the training predictions returned as numpy\n",
    "        # arrays.\n",
    "        _, l, predictions = session.run([optimizer, loss, train_prediction])\n",
    "        if (step % 100 == 0):\n",
    "            print('Loss at step %d: %f' % (step, l))\n",
    "            print('Training accuracy: %.1f%%' % accuracy(\n",
    "            predictions, y_train[:train_subset, :]))\n",
    "            # Calling .eval() on valid_prediction is basically like calling run(), but\n",
    "            # just to get that one numpy array. Note that it recomputes all its graph\n",
    "            # dependencies.\n",
    "            print('Validation accuracy: %.1f%%' % accuracy(\n",
    "                valid_prediction.eval(), y_validation))\n",
    "    print('Test accuracy: %.1f%%' % accuracy(test_prediction.eval(), y_test))"
   ]
  },
  {
   "cell_type": "markdown",
   "metadata": {},
   "source": [
    "# Logit mini-batch gradient descent with TF"
   ]
  },
  {
   "cell_type": "code",
   "execution_count": 161,
   "metadata": {
    "collapsed": true
   },
   "outputs": [],
   "source": [
    "batch_size = 128\n",
    "graph = tf.Graph()\n",
    "with graph.as_default():\n",
    "#     tf_train_dataset = tf.constant(X_train[:train_subset, :])\n",
    "    tf_train_dataset = tf.placeholder(tf.float32,\n",
    "                                      shape=(batch_size, image_size * image_size))\n",
    "#     tf_train_labels = tf.constant(y_train[:train_subset])\n",
    "    tf_train_labels = tf.placeholder(tf.float32, shape=(batch_size, num_labels))\n",
    "    tf_valid_dataset = tf.constant(X_validation)\n",
    "    tf_test_dataset = tf.constant(X_test)\n",
    "    \n",
    "    weights = tf.Variable(\n",
    "        tf.truncated_normal([image_size * image_size, num_labels])\n",
    "    )\n",
    "    biases = tf.Variable(tf.zeros([num_labels]))\n",
    "    \n",
    "    logits = tf.matmul(tf_train_dataset, weights) + biases\n",
    "    \n",
    "    loss = tf.reduce_mean(tf.nn.softmax_cross_entropy_with_logits(labels=tf_train_labels, logits=logits))\n",
    "    optimizer = tf.train.GradientDescentOptimizer(0.5).minimize(loss)\n",
    "    \n",
    "    train_prediction = tf.nn.softmax(logits)\n",
    "    valid_prediction = tf.nn.softmax(\n",
    "    tf.matmul(tf_valid_dataset, weights) + biases)\n",
    "    test_prediction = tf.nn.softmax(tf.matmul(tf_test_dataset, weights) + biases)\n"
   ]
  },
  {
   "cell_type": "code",
   "execution_count": 162,
   "metadata": {
    "collapsed": false
   },
   "outputs": [
    {
     "name": "stdout",
     "output_type": "stream",
     "text": [
      "Initialized\n",
      "Minibatch loss at step 0: 30.553928\n",
      "Minibatch accuracy: 17.2%\n",
      "Validation accuracy: 25.8%\n",
      "Minibatch loss at step 100: 2.110516\n",
      "Minibatch accuracy: 81.2%\n",
      "Validation accuracy: 74.2%\n",
      "Minibatch loss at step 200: 0.847002\n",
      "Minibatch accuracy: 88.3%\n",
      "Validation accuracy: 79.4%\n",
      "Minibatch loss at step 300: 1.150940\n",
      "Minibatch accuracy: 85.2%\n",
      "Validation accuracy: 83.8%\n",
      "Minibatch loss at step 400: 0.459306\n",
      "Minibatch accuracy: 91.4%\n",
      "Validation accuracy: 83.8%\n",
      "Minibatch loss at step 500: 0.560045\n",
      "Minibatch accuracy: 93.0%\n",
      "Validation accuracy: 86.8%\n",
      "Minibatch loss at step 600: 0.523847\n",
      "Minibatch accuracy: 95.3%\n",
      "Validation accuracy: 86.6%\n",
      "Minibatch loss at step 700: 0.179322\n",
      "Minibatch accuracy: 96.9%\n",
      "Validation accuracy: 88.2%\n",
      "Minibatch loss at step 800: 0.257968\n",
      "Minibatch accuracy: 96.9%\n",
      "Validation accuracy: 88.4%\n",
      "Minibatch loss at step 900: 0.569536\n",
      "Minibatch accuracy: 96.1%\n",
      "Validation accuracy: 86.4%\n",
      "Test accuracy: 83.2%\n"
     ]
    }
   ],
   "source": [
    "num_steps = 1000\n",
    "\n",
    "def accuracy(predictions, labels):\n",
    "    return (100.0 * np.sum(np.argmax(predictions, 1) == np.argmax(labels, 1))\n",
    "          / predictions.shape[0])\n",
    "\n",
    "with tf.Session(graph=graph) as session:\n",
    "    tf.global_variables_initializer().run()\n",
    "    print('Initialized')\n",
    "    for step in range(num_steps):\n",
    "        # Pick an offset within the training data, which has been randomized.\n",
    "        # Note: we could use better randomization across epochs.\n",
    "        offset = (step * batch_size) % (y_train.shape[0] - batch_size)\n",
    "        # Generate a minibatch.\n",
    "        batch_data = X_train[offset:(offset + batch_size), :]\n",
    "        batch_labels = y_train[offset:(offset + batch_size), :]\n",
    "        # Prepare a dictionary telling the session where to feed the minibatch.\n",
    "        # The key of the dictionary is the placeholder node of the graph to be fed,\n",
    "        # and the value is the numpy array to feed to it.\n",
    "        feed_dict = {tf_train_dataset : batch_data, tf_train_labels : batch_labels}\n",
    "        _, l, predictions = session.run([optimizer, loss, train_prediction],feed_dict=feed_dict)\n",
    "        if (step % 100 == 0):\n",
    "            print('Minibatch loss at step %d: %f' % (step, l))\n",
    "            print('Minibatch accuracy: %.1f%%' % accuracy(predictions, batch_labels))\n",
    "            # Calling .eval() on valid_prediction is basically like calling run(), but\n",
    "            # just to get that one numpy array. Note that it recomputes all its graph\n",
    "            # dependencies.\n",
    "            print('Validation accuracy: %.1f%%' % accuracy(valid_prediction.eval(), y_validation))\n",
    "    print('Test accuracy: %.1f%%' % accuracy(test_prediction.eval(), y_test))"
   ]
  },
  {
   "cell_type": "markdown",
   "metadata": {},
   "source": [
    "# Neural net mini-batch with TF"
   ]
  },
  {
   "cell_type": "code",
   "execution_count": 165,
   "metadata": {
    "collapsed": false
   },
   "outputs": [],
   "source": [
    "batch_size = 128\n",
    "graph = tf.Graph()\n",
    "num_hidden_nodes = 1024\n",
    "\n",
    "with graph.as_default():\n",
    "#     tf_train_dataset = tf.constant(X_train[:train_subset, :])\n",
    "    tf_train_dataset = tf.placeholder(tf.float32,\n",
    "                                      shape=(batch_size, image_size * image_size))\n",
    "#     tf_train_labels = tf.constant(y_train[:train_subset])\n",
    "    tf_train_labels = tf.placeholder(tf.float32, shape=(batch_size, num_labels))\n",
    "    tf_valid_dataset = tf.constant(X_validation)\n",
    "    tf_test_dataset = tf.constant(X_test)\n",
    "    \n",
    "    W1 = tf.Variable(\n",
    "        tf.truncated_normal([image_size * image_size, num_hidden_nodes])\n",
    "    )\n",
    "    biases1 = tf.Variable(tf.zeros([num_hidden_nodes]))\n",
    "    \n",
    "    W2 = tf.Variable(\n",
    "        tf.truncated_normal([num_hidden_nodes, num_labels])\n",
    "    )\n",
    "    biases2 = tf.Variable(tf.zeros([num_labels]))\n",
    "    \n",
    "    relus = tf.matmul(tf_train_dataset, W1) + biases1\n",
    "    layer1 = tf.nn.relu(relus)\n",
    "    logits = tf.matmul(layer1, W2) + biases2\n",
    "    \n",
    "    loss = tf.reduce_mean(tf.nn.softmax_cross_entropy_with_logits(labels=tf_train_labels, logits=logits))\n",
    "    optimizer = tf.train.GradientDescentOptimizer(0.5).minimize(loss)\n",
    "    \n",
    "    train_prediction = tf.nn.softmax(logits)\n",
    "    layer1_valid = tf.nn.relu(tf.matmul(tf_valid_dataset, W1) + biases1)\n",
    "    valid_prediction = tf.nn.softmax(tf.matmul(layer1_valid, W2) + biases2)\n",
    "    \n",
    "    layer1_test = tf.nn.relu(tf.matmul(tf_test_dataset, W1) + biases1)\n",
    "    test_prediction = tf.nn.softmax(tf.matmul(layer1_test, W2) + biases2)\n"
   ]
  },
  {
   "cell_type": "code",
   "execution_count": 166,
   "metadata": {
    "collapsed": false
   },
   "outputs": [
    {
     "name": "stdout",
     "output_type": "stream",
     "text": [
      "Initialized\n",
      "Minibatch loss at step 0: 768.523682\n",
      "Minibatch accuracy: 7.8%\n",
      "Validation accuracy: 43.0%\n",
      "Minibatch loss at step 100: 1.744203\n",
      "Minibatch accuracy: 98.4%\n",
      "Validation accuracy: 92.0%\n",
      "Minibatch loss at step 200: 0.000000\n",
      "Minibatch accuracy: 100.0%\n",
      "Validation accuracy: 95.4%\n",
      "Minibatch loss at step 300: 2.343038\n",
      "Minibatch accuracy: 99.2%\n",
      "Validation accuracy: 95.6%\n",
      "Minibatch loss at step 400: 0.000410\n",
      "Minibatch accuracy: 100.0%\n",
      "Validation accuracy: 95.8%\n",
      "Minibatch loss at step 500: 0.056251\n",
      "Minibatch accuracy: 98.4%\n",
      "Validation accuracy: 95.8%\n",
      "Minibatch loss at step 600: 0.002520\n",
      "Minibatch accuracy: 100.0%\n",
      "Validation accuracy: 95.8%\n",
      "Minibatch loss at step 700: 0.000262\n",
      "Minibatch accuracy: 100.0%\n",
      "Validation accuracy: 95.8%\n",
      "Minibatch loss at step 800: 0.003342\n",
      "Minibatch accuracy: 100.0%\n",
      "Validation accuracy: 95.8%\n",
      "Minibatch loss at step 900: 0.059221\n",
      "Minibatch accuracy: 98.4%\n",
      "Validation accuracy: 95.8%\n",
      "Minibatch loss at step 1000: 0.000989\n",
      "Minibatch accuracy: 100.0%\n",
      "Validation accuracy: 95.8%\n",
      "Minibatch loss at step 1100: 0.043193\n",
      "Minibatch accuracy: 99.2%\n",
      "Validation accuracy: 95.8%\n",
      "Minibatch loss at step 1200: 0.003065\n",
      "Minibatch accuracy: 100.0%\n",
      "Validation accuracy: 95.8%\n",
      "Minibatch loss at step 1300: 0.000597\n",
      "Minibatch accuracy: 100.0%\n",
      "Validation accuracy: 95.8%\n",
      "Minibatch loss at step 1400: 0.000294\n",
      "Minibatch accuracy: 100.0%\n",
      "Validation accuracy: 95.8%\n",
      "Minibatch loss at step 1500: 0.002173\n",
      "Minibatch accuracy: 100.0%\n",
      "Validation accuracy: 95.8%\n",
      "Minibatch loss at step 1600: 0.000000\n",
      "Minibatch accuracy: 100.0%\n",
      "Validation accuracy: 95.8%\n",
      "Minibatch loss at step 1700: 0.000920\n",
      "Minibatch accuracy: 100.0%\n",
      "Validation accuracy: 95.8%\n",
      "Minibatch loss at step 1800: 0.001221\n",
      "Minibatch accuracy: 100.0%\n",
      "Validation accuracy: 95.8%\n",
      "Minibatch loss at step 1900: 0.003352\n",
      "Minibatch accuracy: 100.0%\n",
      "Validation accuracy: 95.8%\n",
      "Test accuracy: 90.0%\n"
     ]
    }
   ],
   "source": [
    "num_steps = 2000\n",
    "\n",
    "def accuracy(predictions, labels):\n",
    "    return (100.0 * np.sum(np.argmax(predictions, 1) == np.argmax(labels, 1))\n",
    "          / predictions.shape[0])\n",
    "\n",
    "with tf.Session(graph=graph) as session:\n",
    "    tf.global_variables_initializer().run()\n",
    "    print('Initialized')\n",
    "    for step in range(num_steps):\n",
    "        # Pick an offset within the training data, which has been randomized.\n",
    "        # Note: we could use better randomization across epochs.\n",
    "        offset = (step * batch_size) % (y_train.shape[0] - batch_size)\n",
    "        # Generate a minibatch.\n",
    "        batch_data = X_train[offset:(offset + batch_size), :]\n",
    "        batch_labels = y_train[offset:(offset + batch_size), :]\n",
    "        # Prepare a dictionary telling the session where to feed the minibatch.\n",
    "        # The key of the dictionary is the placeholder node of the graph to be fed,\n",
    "        # and the value is the numpy array to feed to it.\n",
    "        feed_dict = {tf_train_dataset : batch_data, tf_train_labels : batch_labels}\n",
    "        _, l, predictions = session.run([optimizer, loss, train_prediction],feed_dict=feed_dict)\n",
    "        if (step % 100 == 0):\n",
    "            print('Minibatch loss at step %d: %f' % (step, l))\n",
    "            print('Minibatch accuracy: %.1f%%' % accuracy(predictions, batch_labels))\n",
    "            # Calling .eval() on valid_prediction is basically like calling run(), but\n",
    "            # just to get that one numpy array. Note that it recomputes all its graph\n",
    "            # dependencies.\n",
    "            print('Validation accuracy: %.1f%%' % accuracy(valid_prediction.eval(), y_validation))\n",
    "    print('Test accuracy: %.1f%%' % accuracy(test_prediction.eval(), y_test))"
   ]
  },
  {
   "cell_type": "markdown",
   "metadata": {
    "collapsed": true
   },
   "source": [
    "# Regularization"
   ]
  },
  {
   "cell_type": "markdown",
   "metadata": {},
   "source": [
    "### L2 Logit"
   ]
  },
  {
   "cell_type": "code",
   "execution_count": 170,
   "metadata": {
    "collapsed": false
   },
   "outputs": [],
   "source": [
    "batch_size = 128\n",
    "graph = tf.Graph()\n",
    "\n",
    "with graph.as_default():\n",
    "    tf_train_dataset = tf.placeholder(tf.float32,shape=(batch_size, image_size * image_size))\n",
    "    tf_train_labels = tf.placeholder(tf.float32, shape=(batch_size, num_labels))\n",
    "    tf_valid_dataset = tf.constant(X_validation)\n",
    "    tf_test_dataset = tf.constant(X_test)\n",
    "    regularization = tf.placeholder(tf.float32)\n",
    "    \n",
    "    weights = tf.Variable(tf.truncated_normal([image_size * image_size, num_labels]))\n",
    "    biases = tf.Variable(tf.zeros([num_labels]))\n",
    "    \n",
    "    logits = tf.matmul(tf_train_dataset, weights) + biases\n",
    "    \n",
    "    loss = tf.reduce_mean(\n",
    "        tf.nn.softmax_cross_entropy_with_logits(\n",
    "            labels=tf_train_labels,\n",
    "            logits=logits\n",
    "            ) \\\n",
    "            + regularization * tf.nn.l2_loss(weights))\n",
    "    optimizer = tf.train.GradientDescentOptimizer(0.5).minimize(loss)\n",
    "    \n",
    "    train_prediction = tf.nn.softmax(logits)\n",
    "    valid_prediction = tf.nn.softmax(tf.matmul(tf_valid_dataset, weights) + biases)\n",
    "    test_prediction = tf.nn.softmax(tf.matmul(tf_test_dataset, weights) + biases)\n"
   ]
  },
  {
   "cell_type": "code",
   "execution_count": 180,
   "metadata": {
    "collapsed": false
   },
   "outputs": [
    {
     "name": "stdout",
     "output_type": "stream",
     "text": [
      "Initialized\n",
      "Minibatch loss at step 0: 35.095253\n",
      "Minibatch accuracy: 14.1%\n",
      "Validation accuracy: 20.8%\n",
      "Minibatch loss at step 500: 2.243433\n",
      "Minibatch accuracy: 94.5%\n",
      "Validation accuracy: 86.4%\n",
      "Minibatch loss at step 1000: 1.084416\n",
      "Minibatch accuracy: 97.7%\n",
      "Validation accuracy: 92.2%\n",
      "Minibatch loss at step 1500: 0.812903\n",
      "Minibatch accuracy: 96.1%\n",
      "Validation accuracy: 90.0%\n",
      "Minibatch loss at step 2000: 0.447664\n",
      "Minibatch accuracy: 100.0%\n",
      "Validation accuracy: 94.4%\n",
      "Minibatch loss at step 2500: 0.336650\n",
      "Minibatch accuracy: 99.2%\n",
      "Validation accuracy: 94.0%\n",
      "Minibatch loss at step 3000: 0.243382\n",
      "Minibatch accuracy: 100.0%\n",
      "Validation accuracy: 94.6%\n",
      "Minibatch loss at step 3500: 0.219015\n",
      "Minibatch accuracy: 99.2%\n",
      "Validation accuracy: 94.4%\n",
      "Minibatch loss at step 4000: 0.166491\n",
      "Minibatch accuracy: 100.0%\n",
      "Validation accuracy: 94.2%\n",
      "Minibatch loss at step 4500: 0.418929\n",
      "Minibatch accuracy: 98.4%\n",
      "Validation accuracy: 87.6%\n",
      "Test accuracy: 87.2%\n"
     ]
    }
   ],
   "source": [
    "num_steps = 5000\n",
    "with tf.Session(graph=graph) as session:\n",
    "    tf.global_variables_initializer().run()\n",
    "    print('Initialized')\n",
    "    for step in range(num_steps):\n",
    "        # Pick an offset within the training data, which has been randomized.\n",
    "        # Note: we could use better randomization across epochs.\n",
    "        offset = (step * batch_size) % (y_train.shape[0] - batch_size)\n",
    "        # Generate a minibatch.\n",
    "        batch_data = X_train[offset:(offset + batch_size), :]\n",
    "        batch_labels = y_train[offset:(offset + batch_size), :]\n",
    "        # Prepare a dictionary telling the session where to feed the minibatch.\n",
    "        # The key of the dictionary is the placeholder node of the graph to be fed,\n",
    "        # and the value is the numpy array to feed to it.\n",
    "        feed_dict = {tf_train_dataset : batch_data, tf_train_labels : batch_labels, regularization: 1e-3}\n",
    "        _, l, predictions = session.run([optimizer, loss, train_prediction],feed_dict=feed_dict)\n",
    "        if (step % 500 == 0):\n",
    "            print('Minibatch loss at step %d: %f' % (step, l))\n",
    "            print('Minibatch accuracy: %.1f%%' % accuracy(predictions, batch_labels))\n",
    "            # Calling .eval() on valid_prediction is basically like calling run(), but\n",
    "            # just to get that one numpy array. Note that it recomputes all its graph\n",
    "            # dependencies.\n",
    "            print('Validation accuracy: %.1f%%' % accuracy(valid_prediction.eval(), y_validation))\n",
    "    print('Test accuracy: %.1f%%' % accuracy(test_prediction.eval(), y_test))"
   ]
  },
  {
   "cell_type": "markdown",
   "metadata": {},
   "source": [
    "### L2 Neural Net"
   ]
  },
  {
   "cell_type": "code",
   "execution_count": 183,
   "metadata": {
    "collapsed": false
   },
   "outputs": [],
   "source": [
    "batch_size = 128\n",
    "graph = tf.Graph()\n",
    "num_hidden_nodes = 1024\n",
    "\n",
    "with graph.as_default():\n",
    "\n",
    "    tf_train_dataset = tf.placeholder(tf.float32,shape=(batch_size, image_size * image_size))\n",
    "    tf_train_labels = tf.placeholder(tf.float32, shape=(batch_size, num_labels))\n",
    "    tf_valid_dataset = tf.constant(X_validation)\n",
    "    tf_test_dataset = tf.constant(X_test)\n",
    "    regularization = tf.placeholder(tf.float32)\n",
    "    \n",
    "    W1 = tf.Variable(tf.truncated_normal([image_size * image_size, num_hidden_nodes]))\n",
    "    biases1 = tf.Variable(tf.zeros([num_hidden_nodes]))\n",
    "    \n",
    "    W2 = tf.Variable(tf.truncated_normal([num_hidden_nodes, num_labels]))\n",
    "    biases2 = tf.Variable(tf.zeros([num_labels]))\n",
    "    \n",
    "    relus = tf.matmul(tf_train_dataset, W1) + biases1\n",
    "    layer1 = tf.nn.relu(relus)\n",
    "    logits = tf.matmul(layer1, W2) + biases2\n",
    "    \n",
    "    loss = tf.reduce_mean(tf.nn.softmax_cross_entropy_with_logits(labels=tf_train_labels, logits=logits) + \\\n",
    "                         regularization * (tf.nn.l2_loss(W1)+tf.nn.l2_loss(W2)))\n",
    "    optimizer = tf.train.GradientDescentOptimizer(0.5).minimize(loss)\n",
    "    \n",
    "    train_prediction = tf.nn.softmax(logits)\n",
    "    layer1_valid = tf.nn.relu(tf.matmul(tf_valid_dataset, W1) + biases1)\n",
    "    valid_prediction = tf.nn.softmax(tf.matmul(layer1_valid, W2) + biases2)\n",
    "    \n",
    "    layer1_test = tf.nn.relu(tf.matmul(tf_test_dataset, W1) + biases1)\n",
    "    test_prediction = tf.nn.softmax(tf.matmul(layer1_test, W2) + biases2)\n"
   ]
  },
  {
   "cell_type": "code",
   "execution_count": 184,
   "metadata": {
    "collapsed": false
   },
   "outputs": [
    {
     "name": "stdout",
     "output_type": "stream",
     "text": [
      "Initialized\n",
      "Minibatch loss at step 0: 1047.886230\n",
      "Minibatch accuracy: 13.3%\n",
      "Validation accuracy: 33.2%\n",
      "Minibatch loss at step 500: 232.672745\n",
      "Minibatch accuracy: 98.4%\n",
      "Validation accuracy: 96.0%\n",
      "Minibatch loss at step 1000: 141.067780\n",
      "Minibatch accuracy: 100.0%\n",
      "Validation accuracy: 96.0%\n",
      "Minibatch loss at step 1500: 85.552544\n",
      "Minibatch accuracy: 100.0%\n",
      "Validation accuracy: 95.8%\n",
      "Minibatch loss at step 2000: 51.883121\n",
      "Minibatch accuracy: 100.0%\n",
      "Validation accuracy: 95.8%\n",
      "Minibatch loss at step 2500: 31.467535\n",
      "Minibatch accuracy: 100.0%\n",
      "Validation accuracy: 96.0%\n",
      "Minibatch loss at step 3000: 19.084652\n",
      "Minibatch accuracy: 100.0%\n",
      "Validation accuracy: 96.0%\n",
      "Minibatch loss at step 3500: 11.576797\n",
      "Minibatch accuracy: 100.0%\n",
      "Validation accuracy: 96.0%\n",
      "Minibatch loss at step 4000: 7.027004\n",
      "Minibatch accuracy: 100.0%\n",
      "Validation accuracy: 95.6%\n",
      "Minibatch loss at step 4500: 4.340883\n",
      "Minibatch accuracy: 98.4%\n",
      "Validation accuracy: 95.6%\n",
      "Test accuracy: 90.0%\n"
     ]
    }
   ],
   "source": [
    "num_steps = 5000\n",
    "with tf.Session(graph=graph) as session:\n",
    "    tf.global_variables_initializer().run()\n",
    "    print('Initialized')\n",
    "    for step in range(num_steps):\n",
    "        # Pick an offset within the training data, which has been randomized.\n",
    "        # Note: we could use better randomization across epochs.\n",
    "        offset = (step * batch_size) % (y_train.shape[0] - batch_size)\n",
    "        # Generate a minibatch.\n",
    "        batch_data = X_train[offset:(offset + batch_size), :]\n",
    "        batch_labels = y_train[offset:(offset + batch_size), :]\n",
    "        # Prepare a dictionary telling the session where to feed the minibatch.\n",
    "        # The key of the dictionary is the placeholder node of the graph to be fed,\n",
    "        # and the value is the numpy array to feed to it.\n",
    "        feed_dict = {tf_train_dataset : batch_data, tf_train_labels : batch_labels, regularization: 1e-3}\n",
    "        _, l, predictions = session.run([optimizer, loss, train_prediction],feed_dict=feed_dict)\n",
    "        if (step % 500 == 0):\n",
    "            print('Minibatch loss at step %d: %f' % (step, l))\n",
    "            print('Minibatch accuracy: %.1f%%' % accuracy(predictions, batch_labels))\n",
    "            # Calling .eval() on valid_prediction is basically like calling run(), but\n",
    "            # just to get that one numpy array. Note that it recomputes all its graph\n",
    "            # dependencies.\n",
    "            print('Validation accuracy: %.1f%%' % accuracy(valid_prediction.eval(), y_validation))\n",
    "    print('Test accuracy: %.1f%%' % accuracy(test_prediction.eval(), y_test))"
   ]
  },
  {
   "cell_type": "markdown",
   "metadata": {},
   "source": [
    "### Dropout NN"
   ]
  },
  {
   "cell_type": "code",
   "execution_count": 185,
   "metadata": {
    "collapsed": true
   },
   "outputs": [],
   "source": [
    "batch_size = 128\n",
    "graph = tf.Graph()\n",
    "num_hidden_nodes = 1024\n",
    "\n",
    "with graph.as_default():\n",
    "    # variable declaration\n",
    "    tf_train_dataset = tf.placeholder(tf.float32,shape=(batch_size, image_size * image_size))\n",
    "    tf_train_labels = tf.placeholder(tf.float32, shape=(batch_size, num_labels))\n",
    "    tf_valid_dataset = tf.constant(X_validation)\n",
    "    tf_test_dataset = tf.constant(X_test)\n",
    "    regularization = tf.placeholder(tf.float32)\n",
    "\n",
    "    # Weights \n",
    "    W1 = tf.Variable(tf.truncated_normal([image_size * image_size, num_hidden_nodes]))\n",
    "    biases1 = tf.Variable(tf.zeros([num_hidden_nodes]))\n",
    "    W2 = tf.Variable(tf.truncated_normal([num_hidden_nodes, num_labels]))\n",
    "    biases2 = tf.Variable(tf.zeros([num_labels]))\n",
    "    \n",
    "    # Layers & activations\n",
    "    relus = tf.matmul(tf_train_dataset, W1) + biases1\n",
    "    layer1 = tf.nn.relu(relus)\n",
    "    drop_out1 = tf.nn.dropout(layer1, 0.5)\n",
    "    logits = tf.matmul(drop_out1, W2) + biases2\n",
    "    \n",
    "    # loss function & optimizaiton\n",
    "    loss = tf.reduce_mean(tf.nn.softmax_cross_entropy_with_logits(labels=tf_train_labels, logits=logits))\n",
    "    optimizer = tf.train.GradientDescentOptimizer(0.5).minimize(loss)\n",
    "    \n",
    "    # training & predictions\n",
    "    train_prediction = tf.nn.softmax(logits)\n",
    "    layer1_valid = tf.nn.relu(tf.matmul(tf_valid_dataset, W1) + biases1)\n",
    "    valid_prediction = tf.nn.softmax(tf.matmul(layer1_valid, W2) + biases2)\n",
    "    \n",
    "    layer1_test = tf.nn.relu(tf.matmul(tf_test_dataset, W1) + biases1)\n",
    "    test_prediction = tf.nn.softmax(tf.matmul(layer1_test, W2) + biases2)\n"
   ]
  },
  {
   "cell_type": "code",
   "execution_count": 192,
   "metadata": {
    "collapsed": false
   },
   "outputs": [
    {
     "name": "stdout",
     "output_type": "stream",
     "text": [
      "Initialized\n",
      "Minibatch loss at step 0: 1057.203613\n",
      "Minibatch accuracy: 13.3%\n",
      "Validation accuracy: 33.8%\n",
      "Minibatch loss at step 500: 13740065792.000000\n",
      "Minibatch accuracy: 68.0%\n",
      "Validation accuracy: 67.2%\n",
      "Minibatch loss at step 1000: 18170868909719158784.000000\n",
      "Minibatch accuracy: 63.3%\n",
      "Validation accuracy: 61.0%\n",
      "Minibatch loss at step 1500: 421705740500268978561613824.000000\n",
      "Minibatch accuracy: 48.4%\n",
      "Validation accuracy: 49.0%\n",
      "Minibatch loss at step 2000: nan\n",
      "Minibatch accuracy: 4.7%\n",
      "Validation accuracy: 7.8%\n",
      "Minibatch loss at step 2500: nan\n",
      "Minibatch accuracy: 10.9%\n",
      "Validation accuracy: 7.8%\n",
      "Minibatch loss at step 3000: nan\n",
      "Minibatch accuracy: 6.2%\n",
      "Validation accuracy: 7.8%\n",
      "Minibatch loss at step 3500: nan\n",
      "Minibatch accuracy: 9.4%\n",
      "Validation accuracy: 7.8%\n",
      "Minibatch loss at step 4000: nan\n",
      "Minibatch accuracy: 13.3%\n",
      "Validation accuracy: 7.8%\n",
      "Minibatch loss at step 4500: nan\n",
      "Minibatch accuracy: 8.6%\n",
      "Validation accuracy: 7.8%\n",
      "Test accuracy: 6.8%\n"
     ]
    }
   ],
   "source": [
    "num_steps = 5000\n",
    "num_batches = 3\n",
    "\n",
    "with tf.Session(graph=graph) as session:\n",
    "    tf.global_variables_initializer().run()\n",
    "    print('Initialized')\n",
    "    for step in range(num_steps):\n",
    "        # Pick an offset within the training data, which has been randomized.\n",
    "        # Note: we could use better randomization across epochs.\n",
    "        offset = (step * batch_size) % (y_train.shape[0] - batch_size)\n",
    "#         offset = step % num_batches\n",
    "        # Generate a minibatch.\n",
    "        batch_data = X_train[offset:(offset + batch_size), :]\n",
    "        batch_labels = y_train[offset:(offset + batch_size), :]\n",
    "        # Prepare a dictionary telling the session where to feed the minibatch.\n",
    "        # The key of the dictionary is the placeholder node of the graph to be fed,\n",
    "        # and the value is the numpy array to feed to it.\n",
    "        feed_dict = {tf_train_dataset : batch_data, tf_train_labels : batch_labels, regularization: 1e-3}\n",
    "        _, l, predictions = session.run([optimizer, loss, train_prediction],feed_dict=feed_dict)\n",
    "        if (step % 500 == 0):\n",
    "            print('Minibatch loss at step %d: %f' % (step, l))\n",
    "            print('Minibatch accuracy: %.1f%%' % accuracy(predictions, batch_labels))\n",
    "            # Calling .eval() on valid_prediction is basically like calling run(), but\n",
    "            # just to get that one numpy array. Note that it recomputes all its graph\n",
    "            # dependencies.\n",
    "            print('Validation accuracy: %.1f%%' % accuracy(valid_prediction.eval(), y_validation))\n",
    "    print('Test accuracy: %.1f%%' % accuracy(test_prediction.eval(), y_test))"
   ]
  },
  {
   "cell_type": "code",
   "execution_count": null,
   "metadata": {
    "collapsed": true
   },
   "outputs": [],
   "source": []
  }
 ],
 "metadata": {
  "kernelspec": {
   "display_name": "Python 2",
   "language": "python",
   "name": "python2"
  },
  "language_info": {
   "codemirror_mode": {
    "name": "ipython",
    "version": 2
   },
   "file_extension": ".py",
   "mimetype": "text/x-python",
   "name": "python",
   "nbconvert_exporter": "python",
   "pygments_lexer": "ipython2",
   "version": "2.7.13"
  }
 },
 "nbformat": 4,
 "nbformat_minor": 0
}
