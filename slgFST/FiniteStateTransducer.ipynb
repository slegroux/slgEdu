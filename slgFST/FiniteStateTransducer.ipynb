{
 "cells": [
  {
   "cell_type": "markdown",
   "metadata": {},
   "source": [
    "# Finate State Tranducers for Language Modeling"
   ]
  },
  {
   "cell_type": "markdown",
   "metadata": {},
   "source": [
    "## Terminology\n",
    "\n",
    "### Symbols & strings\n",
    "- symbols come from an alphabet: letters, words, phonemes, etc.\n",
    "- string: series of symbol: word, sentence, word\n",
    "\n",
    "### Finite State Acceptor (FSA)\n",
    "- Representation of **regular (rational) sets**.\n",
    "- one symbol per edge\n",
    "\n",
    "Can be used to check if string matches a pattern (computationally equivalent to a regex) or to generate strings which match this pattern. (also tokenization, compression)\n",
    "\n",
    "- a number of states\n",
    "    - at least one is initial \n",
    "    - at least one is final\n",
    "- connection b/w states. symbol could be empty string.\n",
    "\n",
    "### Finite State Transducers (FST)\n",
    "- Representation of **rational binary relations**.\n",
    "- two symbols per edge (one input, one output)\n",
    "\n",
    "Can be used to translate strings in its input alphabet to strings in its output alphabet (e.g. dictionaries, context-dependent rules)\n",
    "\n",
    "Extends FSA with the addition of:\n",
    "- output labels on each edge\n",
    "\n",
    "### Weighted State Accetpors/Transducers\n",
    "Weight associated with each edge (as well as input & output for transducers). for instance weight along the path is product of probabilities and represent prob of the input string, sum of weights on 2 edges is the prob of either of theses alternatives. (e.g. n-gram, language translation)\n"
   ]
  },
  {
   "cell_type": "markdown",
   "metadata": {},
   "source": [
    "## Language generation"
   ]
  },
  {
   "cell_type": "markdown",
   "metadata": {},
   "source": [
    "### FSA: Part Of Speech sentence structure\n",
    "DET: a determiner, N: noun, V: verb. state 5 is a final state\n",
    "\n",
    "```fromState toState inSymbol [outSymbol] [weight]```"
   ]
  },
  {
   "cell_type": "code",
   "execution_count": 1,
   "metadata": {},
   "outputs": [
    {
     "name": "stdout",
     "output_type": "stream",
     "text": [
      "0 1 DET\n",
      "1 2 N\n",
      "2 3 V\n",
      "3 4 DET\n",
      "4 5 N\n",
      "5\n"
     ]
    }
   ],
   "source": [
    "cat sent.fsa.txt"
   ]
  },
  {
   "cell_type": "markdown",
   "metadata": {},
   "source": [
    "mapping from symbols to integers. - is always symbol 0"
   ]
  },
  {
   "cell_type": "code",
   "execution_count": 26,
   "metadata": {},
   "outputs": [
    {
     "name": "stdout",
     "output_type": "stream",
     "text": [
      "- 0\n",
      "DET 1\n",
      "N 2\n",
      "V 3\n"
     ]
    }
   ],
   "source": [
    "cat pos.voc"
   ]
  },
  {
   "cell_type": "code",
   "execution_count": 1,
   "metadata": {},
   "outputs": [],
   "source": [
    "fstcompile --acceptor -isymbols=pos.voc sent.fsa.txt > sent.fsa"
   ]
  },
  {
   "cell_type": "code",
   "execution_count": 11,
   "metadata": {},
   "outputs": [
    {
     "name": "stdout",
     "output_type": "stream",
     "text": [
      "0\t1\tDET\t1\n",
      "1\t2\tN\t2\n",
      "2\t3\tV\t3\n",
      "3\t4\tDET\t1\n",
      "4\t5\tN\t2\n",
      "5\n"
     ]
    }
   ],
   "source": [
    "fstprint -isymbols=pos.voc sent.fsa"
   ]
  },
  {
   "cell_type": "code",
   "execution_count": 20,
   "metadata": {},
   "outputs": [],
   "source": [
    "fstdraw --isymbols=pos.voc sent.fsa | dot -Tpng > sent.png"
   ]
  },
  {
   "cell_type": "code",
   "execution_count": 23,
   "metadata": {},
   "outputs": [
    {
     "name": "stdout",
     "output_type": "stream",
     "text": []
    },
    {
     "data": {
      "image/png": "[encoded data removed]"
     },
     "metadata": {},
     "output_type": "display_data"
    }
   ],
   "source": [
    "convert -rotate \"90\" sent.png sent_h.png\n",
    "display < sent_h.png"
   ]
  },
  {
   "cell_type": "markdown",
   "metadata": {},
   "source": [
    "### FST: dictionary from POS to Words\n",
    "maps POS to words"
   ]
  },
  {
   "cell_type": "code",
   "execution_count": 28,
   "metadata": {},
   "outputs": [
    {
     "name": "stdout",
     "output_type": "stream",
     "text": [
      "0 0 DET a\n",
      "0 0 DET the\n",
      "0 0 N cat\n",
      "0 0 N dog\n",
      "0 0 V chased\n",
      "0 0 V bit\n",
      "0\n"
     ]
    }
   ],
   "source": [
    "cat dict.fst.txt"
   ]
  },
  {
   "cell_type": "code",
   "execution_count": 29,
   "metadata": {},
   "outputs": [
    {
     "name": "stdout",
     "output_type": "stream",
     "text": [
      "- 0\n",
      "a 1\n",
      "the 2\n",
      "cat 3\n",
      "dog 4\n",
      "chased 5\n",
      "bit 6\n"
     ]
    }
   ],
   "source": [
    "cat word.voc"
   ]
  },
  {
   "cell_type": "code",
   "execution_count": 30,
   "metadata": {},
   "outputs": [],
   "source": [
    "fstcompile -isymbols=pos.voc -osymbols=word.voc dict.fst.txt > dict.fst"
   ]
  },
  {
   "cell_type": "code",
   "execution_count": 32,
   "metadata": {},
   "outputs": [],
   "source": [
    "fstdraw --isymbols=pos.voc -osymbols=word.voc dict.fst | dot -Tpng >dict.png"
   ]
  },
  {
   "cell_type": "code",
   "execution_count": 35,
   "metadata": {},
   "outputs": [
    {
     "name": "stdout",
     "output_type": "stream",
     "text": []
    },
    {
     "data": {
      "image/png": "[encoded data removed]"
     },
     "metadata": {},
     "output_type": "display_data"
    }
   ],
   "source": [
    "convert -rotate \"90\" dict.png dict_h.png\n",
    "display < dict_h.png"
   ]
  },
  {
   "cell_type": "markdown",
   "metadata": {},
   "source": [
    "### Final FST: regular grammar specifying a language with 32 possible sentences"
   ]
  },
  {
   "cell_type": "code",
   "execution_count": 36,
   "metadata": {},
   "outputs": [],
   "source": [
    "fstcompose sent.fsa dict.fst > strings.fst"
   ]
  },
  {
   "cell_type": "code",
   "execution_count": 46,
   "metadata": {},
   "outputs": [],
   "source": [
    "fstdraw --portrait --isymbols=pos.voc -osymbols=word.voc strings.fst | dot -Tpng > strings.png"
   ]
  },
  {
   "cell_type": "code",
   "execution_count": 49,
   "metadata": {},
   "outputs": [
    {
     "name": "stdout",
     "output_type": "stream",
     "text": []
    },
    {
     "data": {
      "image/png": "[encoded data removed]"
     },
     "metadata": {},
     "output_type": "display_data"
    }
   ],
   "source": [
    "#convert -rotate \"90\" strings.png strings_h.png\n",
    "display < strings.png"
   ]
  },
  {
   "cell_type": "markdown",
   "metadata": {},
   "source": [
    "### Generation"
   ]
  },
  {
   "cell_type": "code",
   "execution_count": 45,
   "metadata": {},
   "outputs": [
    {
     "name": "stdout",
     "output_type": "stream",
     "text": [
      "\n",
      "a dog bit the dog  \n",
      "\n",
      "a dog chased a dog  \n",
      "\n",
      "the dog chased the cat  \n",
      "\n",
      "the cat bit the cat  \n",
      "\n",
      "a cat chased the cat  \n",
      "\n",
      "a cat chased a cat  \n",
      "\n",
      "the dog chased a cat  \n",
      "\n",
      "the cat bit the dog  \n",
      "\n",
      "the dog chased the cat  \n",
      "\n",
      "the dog chased a cat  \n"
     ]
    }
   ],
   "source": [
    "for i in $(seq 1 10); do\n",
    "    fstrandgen strings.fst | fstproject --project_output | \\\n",
    "        fstprint --acceptor --isymbols=word.voc | \\\n",
    "        awk 'BEGIN{printf(\"\\n\")}{printf(\"%s \",$3)}END{printf(\"\\n\")}'\n",
    "done"
   ]
  },
  {
   "cell_type": "markdown",
   "metadata": {},
   "source": [
    "### one sentence at a time\n",
    "ctrl + enter to not move to next cell"
   ]
  },
  {
   "cell_type": "code",
   "execution_count": 19,
   "metadata": {},
   "outputs": [
    {
     "name": "stdout",
     "output_type": "stream",
     "text": [
      "\n",
      "a dog chased a dog  \n"
     ]
    }
   ],
   "source": [
    "fstrandgen strings.fst | fstproject --project_output | \\\n",
    "        fstprint --acceptor --isymbols=word.voc | \\\n",
    "        awk 'BEGIN{printf(\"\\n\")}{printf(\"%s \",$3)}END{printf(\"\\n\")}'"
   ]
  },
  {
   "cell_type": "code",
   "execution_count": null,
   "metadata": {},
   "outputs": [],
   "source": []
  }
 ],
 "metadata": {
  "kernelspec": {
   "display_name": "Bash",
   "language": "bash",
   "name": "bash"
  },
  "language_info": {
   "codemirror_mode": "shell",
   "file_extension": ".sh",
   "mimetype": "text/x-sh",
   "name": "bash"
  }
 },
 "nbformat": 4,
 "nbformat_minor": 4
}
