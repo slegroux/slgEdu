{
 "cells": [
  {
   "cell_type": "markdown",
   "metadata": {},
   "source": [
    "# Predict Insurance Claim Denial"
   ]
  },
  {
   "cell_type": "markdown",
   "metadata": {},
   "source": [
    "- We are interested in an analytic and/or predictive model to predict claims that would be denied with the following Denial.Reason.Code: F13, J8G, JO5, JB8, JE1, JC9, JF1, JF9, JG1, JPA and JES.\n",
    "- Feel free to use any language (e.g. R, Python). Please send us the code and a brief write up of your findings (e.g. on the sensitivity and specificity of the algorithm)."
   ]
  },
  {
   "cell_type": "markdown",
   "metadata": {},
   "source": [
    "# Structure of the report"
   ]
  },
  {
   "cell_type": "markdown",
   "metadata": {},
   "source": [
    "- this report is divided into feature engineering, training and parameter optimization for fine tuning the trade-off precision/recall\n",
    "- we include comments and conclusion with the code"
   ]
  },
  {
   "cell_type": "markdown",
   "metadata": {},
   "source": [
    "# Import pandas, sklearn, numpy and matplotlib"
   ]
  },
  {
   "cell_type": "markdown",
   "metadata": {},
   "source": [
    "- we use standard libraries sklearn for machine learning and pandas for data processing"
   ]
  },
  {
   "cell_type": "code",
   "execution_count": 3,
   "metadata": {
    "collapsed": true
   },
   "outputs": [],
   "source": [
    "import matplotlib.pyplot as plt\n",
    "import numpy as np\n",
    "import pandas as pd\n",
    "import statsmodels.api as sm\n",
    "from scipy.stats import sem\n",
    "from statsmodels.nonparametric.kde import KDEUnivariate\n",
    "from statsmodels.nonparametric import smoothers_lowess\n",
    "from pandas import Series, DataFrame\n",
    "from patsy import dmatrices\n",
    "from sklearn import preprocessing\n",
    "from sklearn import linear_model\n",
    "from sklearn import svm\n",
    "from sklearn import naive_bayes\n",
    "from sklearn import ensemble\n",
    "from sklearn import neighbors\n",
    "from sklearn import metrics\n",
    "from sklearn import learning_curve\n",
    "from sklearn import cross_validation\n",
    "from sklearn import grid_search\n",
    "from sklearn import kernel_approximation\n",
    "from sklearn import feature_selection\n",
    "from sklearn import decomposition\n",
    "from scipy.stats import randint as sp_randint\n",
    "import mca\n",
    "from IPython import embed\n",
    "import seaborn\n",
    "%matplotlib inline "
   ]
  },
  {
   "cell_type": "markdown",
   "metadata": {},
   "source": [
    "# Helper functions"
   ]
  },
  {
   "cell_type": "markdown",
   "metadata": {},
   "source": [
    "- these helper functions are used to visualize data and plot error curves"
   ]
  },
  {
   "cell_type": "code",
   "execution_count": 4,
   "metadata": {
    "collapsed": true
   },
   "outputs": [],
   "source": [
    "# HELPER FUNCTION DEFINITIONS\n",
    "    \n",
    "def confusion_matrix(y_true, y_pred):\n",
    "  confusion_matrix = metrics.confusion_matrix(y_true, y_pred)\n",
    "  plt.matshow(confusion_matrix)\n",
    "  plt.ylabel('True label')\n",
    "  plt.xlabel('Predicted label')\n",
    "  plt.colorbar()\n",
    "  plt.show()\n",
    "\n",
    "\n",
    "def roc_curve(model, X_test, y_test):\n",
    "  preds_proba = model.predict_proba(X_test)[:, 1]\n",
    "  fpr, tpr, thresholds = metrics.roc_curve(y_test, preds_proba)\n",
    "  roc_auc = metrics.auc(fpr, tpr)\n",
    "  plt.plot([0, 1], [0, 1], '--', color=(0.6, 0.6, 0.6), label='Luck')\n",
    "  plt.plot(fpr, tpr, 'k--', label='ROC (area = %0.2f)' % roc_auc, lw=2)\n",
    "  plt.xlim([-0.05, 1.05])\n",
    "  plt.ylim([-0.05, 1.05])\n",
    "  plt.xlabel('False Positive Rate=1-specificity')\n",
    "  plt.ylabel('True Positive Rate/Recall/Sensitivity')\n",
    "  plt.title('Receiver operating characteristic example')\n",
    "  plt.legend(loc=\"lower right\")\n",
    "\n",
    "\n",
    "def precision_recall_curve(model, X_test, y_test):\n",
    "  score = model.decision_function(X_test)\n",
    "  precision, recall, _ = metrics.precision_recall_curve(y_test, score)\n",
    "  plt.plot(recall, precision, label='Precision-Recall curve')\n",
    "  plt.xlim([0.0, 1.0])\n",
    "  plt.ylim([0.0, 1.05])\n",
    "  plt.xlabel('Recall/Sensitivity')\n",
    "  plt.ylabel('Precision')\n",
    "  plt.title('Precision-Recall curve')\n",
    "  plt.legend(loc=\"lower right\")\n",
    "\n",
    "\n",
    "def learning_curves(X_train, y_train, model, scoring='accuracy', cv=5):\n",
    "  plt.figure()\n",
    "  plt.title(\"Learning curve\")\n",
    "  plt.xlabel(\"Number of training examples\")\n",
    "  plt.ylabel(\"scores\")\n",
    "  train_sizes, train_scores, test_scores = learning_curve.learning_curve(model, X_train, y_train, scoring=scoring, cv=cv, verbose=1)\n",
    "  train_scores_mean = np.mean(train_scores, axis=1)\n",
    "  train_scores_std = np.std(train_scores, axis=1)\n",
    "  test_scores_mean = np.mean(test_scores, axis=1)\n",
    "  test_scores_std = np.std(test_scores, axis=1)\n",
    "  plt.plot(train_sizes, train_scores_mean, 'o-', label=\"Training score\", color=\"r\")\n",
    "  plt.fill_between(train_sizes, train_scores_mean - train_scores_std, train_scores_mean + train_scores_std, alpha=0.2, color=\"r\")\n",
    "  plt.plot(train_sizes, test_scores_mean, 'o-', label=\"Cross-validation score\", color=\"g\")\n",
    "  plt.fill_between(train_sizes, test_scores_mean - test_scores_std, test_scores_mean + test_scores_std, alpha=0.2, color=\"g\")\n",
    "  plt.legend(loc=\"best\")\n",
    "  plt.autoscale(tight=True)\n",
    "  plt.show()\n",
    "\n",
    "    \n",
    "def model_selection(X_train, X_test, y_train, y_test, parameters, clf, scoring=None, cv=3):\n",
    "  clf_grid = grid_search.RandomizedSearchCV(clf, parameters, verbose=1, scoring=scoring, cv=cv, n_jobs=-1)\n",
    "  # clf_grid = grid_search.GridSearch(clf, parameters, verbose=1, scoring=scoring, cv=cv, n_jobs=-1)\n",
    "  clf_grid.fit(X_train, y_train)\n",
    "  print \"------------------------------------------------------------------------\"\n",
    "  print \"best parameters:\"\n",
    "  print clf_grid.best_params_\n",
    "  print \"best score:\"\n",
    "  print clf_grid.best_score_\n",
    "  print \"------------------------------------------------------------------------\"\n",
    "  print(\"Best parameters set found on cross-validation set:\")\n",
    "  print(clf_grid.best_estimator_)\n",
    "  print \"------------------------------------------------------------------------\"\n",
    "  print(\"Grid scores on CV set:\")\n",
    "  for params, mean_score, scores in clf_grid.grid_scores_:\n",
    "    print(\"%0.3f (+/-%0.03f) for %r\" % (mean_score, scores.std() / 2, params))\n",
    "  print \"------------------------------------------------------------------------\"\n",
    "  print(\"Classification report on test set:\")\n",
    "  y_true, y_pred = y_test, clf_grid.predict(X_test)\n",
    "  print(metrics.classification_report(y_true, y_pred))\n",
    "  return clf_grid\n",
    "\n",
    "\n",
    "def feature_importance(model, top=25):\n",
    "  feature_importance = model.feature_importances_\n",
    "  # Normalize The Features\n",
    "  feature_importance = 100.0 * (feature_importance / feature_importance.max())\n",
    "  sorted_idx = np.argsort(feature_importance)\n",
    "  pos = np.arange(sorted_idx.shape[0]) + .5\n",
    "  # plt.figure(figsize=(16, 12))\n",
    "  plt.barh(pos[-top:], feature_importance[sorted_idx[-top:]], align='center', color='#7A68A6')\n",
    "  # plt.yticks(pos, np.asanyarray(df.columns.tolist())[sorted_idx])\n",
    "  plt.yticks(pos[-top:], sorted_idx[-top:])\n",
    "  plt.xlabel('Relative Importance')\n",
    "  plt.ylabel('Feature Column Number')\n",
    "  plt.title('Feature Importance')\n",
    "  plt.show()"
   ]
  },
  {
   "cell_type": "markdown",
   "metadata": {},
   "source": [
    "# Data import and transform"
   ]
  },
  {
   "cell_type": "markdown",
   "metadata": {},
   "source": [
    "- Replace empty cells by NaN code, drop duplicates and keep only rows with actual denial code"
   ]
  },
  {
   "cell_type": "code",
   "execution_count": 5,
   "metadata": {
    "collapsed": true
   },
   "outputs": [],
   "source": [
    "# READ DATA replace empty cells by nan\n",
    "df = pd.read_csv(\"claim.sample.csv\", index_col=0, na_values=[\" \"], low_memory=False)"
   ]
  },
  {
   "cell_type": "code",
   "execution_count": 6,
   "metadata": {
    "collapsed": false
   },
   "outputs": [
    {
     "data": {
      "text/plain": [
       "(146529, 28)"
      ]
     },
     "execution_count": 6,
     "metadata": {},
     "output_type": "execute_result"
    }
   ],
   "source": [
    "df = df.drop_duplicates()\n",
    "# keep only rows where we actually have a denial code\n",
    "df = df[df['Denial.Reason.Code'].notnull()]\n",
    "df.shape"
   ]
  },
  {
   "cell_type": "markdown",
   "metadata": {},
   "source": [
    "- 146529 total cases left and 28 features"
   ]
  },
  {
   "cell_type": "markdown",
   "metadata": {},
   "source": [
    "# Feature Engineering"
   ]
  },
  {
   "cell_type": "markdown",
   "metadata": {},
   "source": [
    "- we separate features by type\n",
    "- encode categorical features with type \"category\"\n",
    "- code denial reason code into binary variable YES (denied) and NO (approved)\n",
    "- check the number of categories for each category/feature"
   ]
  },
  {
   "cell_type": "code",
   "execution_count": 7,
   "metadata": {
    "collapsed": false
   },
   "outputs": [
    {
     "data": {
      "text/plain": [
       "28"
      ]
     },
     "execution_count": 7,
     "metadata": {},
     "output_type": "execute_result"
    }
   ],
   "source": [
    "# Separate Features by type\n",
    "categorical = [\n",
    "    u'Claim.Line.Number', u'Provider.ID',\n",
    "    u'Line.Of.Business.ID', u'Revenue.Code', u'Service.Code',\n",
    "    u'Place.Of.Service.Code',\n",
    "    u'Price.Index',\n",
    "    u'In.Out.Of.Network', u'Reference.Index', u'Pricing.Index',\n",
    "    u'Capitation.Index',\n",
    "    u'Claim.Type', u'Claim.Subscriber.Type',\n",
    "    u'Claim.Pre.Prince.Index', u'Claim.Current.Status', u'Network.ID',\n",
    "    u'Agreement.ID']\n",
    "indices = [u'Claim.Number', u'Group.Index', u'Subscriber.Index', u'Subgroup.Index']\n",
    "continuous = [u'Claim.Charge.Amount', u'Subscriber.Payment.Amount', u'Provider.Payment.Amount']\n",
    "medical_idx = [u'Procedure.Code', u'Diagnosis.Code']\n",
    "denial = [u'Denial.Reason.Code']\n",
    "user_id = [u'Member.ID']\n",
    "\n",
    "len(categorical)+len(indices)+len(continuous)+len(medical_idx)+len(denial)+len(user_id)"
   ]
  },
  {
   "cell_type": "code",
   "execution_count": 8,
   "metadata": {
    "collapsed": false
   },
   "outputs": [
    {
     "name": "stdout",
     "output_type": "stream",
     "text": [
      "---- Claim.Line.Number\n",
      "count     146529\n",
      "unique       135\n",
      "top            1\n",
      "freq       30477\n",
      "Name: Claim.Line.Number, dtype: int64\n",
      "---- Provider.ID\n",
      "count           146529\n",
      "unique              26\n",
      "top       FA0001411001\n",
      "freq             42856\n",
      "Name: Provider.ID, dtype: object\n",
      "---- Line.Of.Business.ID\n",
      "count     144700\n",
      "unique         5\n",
      "top            1\n",
      "freq       72859\n",
      "Name: Line.Of.Business.ID, dtype: float64\n",
      "---- Revenue.Code\n",
      "count     146473\n",
      "unique       160\n",
      "top         0301\n",
      "freq       16764\n",
      "Name: Revenue.Code, dtype: object\n",
      "---- Service.Code\n",
      "count     146529\n",
      "unique       112\n",
      "top         LA7O\n",
      "freq       32571\n",
      "Name: Service.Code, dtype: object\n",
      "---- Place.Of.Service.Code\n",
      "count     56\n",
      "unique     2\n",
      "top       11\n",
      "freq      43\n",
      "Name: Place.Of.Service.Code, dtype: float64\n",
      "---- Price.Index\n",
      "count     127502\n",
      "unique         2\n",
      "top            A\n",
      "freq      124635\n",
      "Name: Price.Index, dtype: object\n",
      "---- In.Out.Of.Network\n",
      "count     143781\n",
      "unique         2\n",
      "top            I\n",
      "freq      141717\n",
      "Name: In.Out.Of.Network, dtype: object\n",
      "---- Reference.Index\n",
      "count     146529\n",
      "unique         3\n",
      "top            N\n",
      "freq       88166\n",
      "Name: Reference.Index, dtype: object\n",
      "---- Pricing.Index\n",
      "count     146529\n",
      "unique         4\n",
      "top            N\n",
      "freq      135203\n",
      "Name: Pricing.Index, dtype: object\n",
      "---- Capitation.Index\n",
      "count     81476\n",
      "unique        2\n",
      "top           N\n",
      "freq      78438\n",
      "Name: Capitation.Index, dtype: object\n",
      "---- Claim.Type\n",
      "count     146529\n",
      "unique         2\n",
      "top            M\n",
      "freq      137764\n",
      "Name: Claim.Type, dtype: object\n",
      "---- Claim.Subscriber.Type\n",
      "count     146529\n",
      "unique         2\n",
      "top            H\n",
      "freq      146473\n",
      "Name: Claim.Subscriber.Type, dtype: object\n",
      "---- Claim.Pre.Prince.Index\n",
      "count     54006\n",
      "unique        2\n",
      "top           S\n",
      "freq      52936\n",
      "Name: Claim.Pre.Prince.Index, dtype: object\n",
      "---- Claim.Current.Status\n",
      "count     146529\n",
      "unique         7\n",
      "top            2\n",
      "freq      120620\n",
      "Name: Claim.Current.Status, dtype: int64\n",
      "---- Network.ID\n",
      "count           142402\n",
      "unique              15\n",
      "top       P00000000007\n",
      "freq             59806\n",
      "Name: Network.ID, dtype: object\n",
      "---- Agreement.ID\n",
      "count           144447\n",
      "unique              28\n",
      "top       FH001311QB01\n",
      "freq             24830\n",
      "Name: Agreement.ID, dtype: object\n",
      "---- Procedure.Code\n",
      "count     118176\n",
      "unique      2917\n",
      "top        36415\n",
      "freq        4112\n",
      "Name: Procedure.Code, dtype: object\n",
      "---- Diagnosis.Code\n",
      "count     146529\n",
      "unique      2501\n",
      "top         V571\n",
      "freq        6250\n",
      "Name: Diagnosis.Code, dtype: object\n",
      "---- Claim.Number\n",
      "count       146529\n",
      "unique       33152\n",
      "top       37093690\n",
      "freq           131\n",
      "Name: Claim.Number, dtype: float64\n",
      "---- Group.Index\n",
      "count     146529\n",
      "unique      1280\n",
      "top          114\n",
      "freq       54006\n",
      "Name: Group.Index, dtype: int64\n",
      "---- Subscriber.Index\n",
      "count       146529\n",
      "unique       10996\n",
      "top       17723800\n",
      "freq           750\n",
      "Name: Subscriber.Index, dtype: int64\n",
      "---- Subgroup.Index\n",
      "count     146529\n",
      "unique      1287\n",
      "top            0\n",
      "freq      129557\n",
      "Name: Subgroup.Index, dtype: int64\n",
      "---- Member.ID\n"
     ]
    },
    {
     "data": {
      "text/plain": [
       "count       146529\n",
       "unique       11799\n",
       "top       21880031\n",
       "freq           750\n",
       "Name: Member.ID, dtype: int64"
      ]
     },
     "execution_count": 8,
     "metadata": {},
     "output_type": "execute_result"
    }
   ],
   "source": [
    "# encode features into factor variables and check number of category per feature\n",
    "for col in df[categorical]:\n",
    "    df[col] = df[col].astype('category')\n",
    "    print \"---- \"+ col\n",
    "    print df[col].describe()\n",
    "\n",
    "for col in df[medical_idx]:\n",
    "    df[col] = df[col].astype('category')\n",
    "    print \"---- \"+ col\n",
    "    print df[col].describe()\n",
    "\n",
    "for col in df[denial]:\n",
    "    df[col] = df[col].astype('category')\n",
    "\n",
    "for col in df[indices]:\n",
    "    df[col] = df[col].astype('category')\n",
    "    print \"---- \"+ col\n",
    "    print df[col].describe()\n",
    "\n",
    "df['Member.ID'] = df['Member.ID'].astype('category')\n",
    "print \"---- Member.ID\"\n",
    "df['Member.ID'].describe()"
   ]
  },
  {
   "cell_type": "code",
   "execution_count": null,
   "metadata": {
    "collapsed": false
   },
   "outputs": [],
   "source": []
  },
  {
   "cell_type": "code",
   "execution_count": 9,
   "metadata": {
    "collapsed": true
   },
   "outputs": [],
   "source": [
    "# transform denial target codes to binary\n",
    "denial = [\"F13\", \"J8G\", \"JO5\", \"JB8\", \"JE1\", \"JC9\", \"JF1\", \"JF9\", \"JG1\", \"JPA\", \"JES\"]\n",
    "target = []\n",
    "for row in df['Denial.Reason.Code']:\n",
    "    if row in denial:\n",
    "        target.append('YES')\n",
    "    else:\n",
    "        target.append('NO')\n",
    "df['target'] = target"
   ]
  },
  {
   "cell_type": "markdown",
   "metadata": {},
   "source": [
    "# Descriptive Analysis"
   ]
  },
  {
   "cell_type": "markdown",
   "metadata": {},
   "source": [
    "- A pie plot of the data shows that the dataset is highly unbalanced with only **1.3% of denial** which makes sense"
   ]
  },
  {
   "cell_type": "code",
   "execution_count": 10,
   "metadata": {
    "collapsed": false
   },
   "outputs": [
    {
     "name": "stdout",
     "output_type": "stream",
     "text": [
      "NO     144558\n",
      "YES      1971\n",
      "Name: target, dtype: int64\n",
      "% of denial:  0.0134512622075\n"
     ]
    },
    {
     "data": {
      "image/png": "[encoded data removed]",
      "text/plain": [
       "<matplotlib.figure.Figure at 0x10431fc90>"
      ]
     },
     "metadata": {},
     "output_type": "display_data"
    }
   ],
   "source": [
    "print df['target'].value_counts()\n",
    "df['target'].value_counts().plot(kind='pie')\n",
    "print \"% of denial: \", 1971./(1971+144558)"
   ]
  },
  {
   "cell_type": "markdown",
   "metadata": {},
   "source": [
    "# Multicollinearity"
   ]
  },
  {
   "cell_type": "markdown",
   "metadata": {},
   "source": [
    "- by computing cross-tabs we can see how the distribution of categories impact the outcome\n",
    "- we want to look at colinearity of categorical variables. one way to do this is multiple correspondence analysis (~ PCA for categorical variables)\n",
    "- the computation seems to take a long time on my laptop, so didn't I didn't do a thorough analysis here\n",
    "- keeping all the features for now. would do a more detailed feature selection analysis with more time at hand"
   ]
  },
  {
   "cell_type": "code",
   "execution_count": 11,
   "metadata": {
    "collapsed": false
   },
   "outputs": [
    {
     "name": "stdout",
     "output_type": "stream",
     "text": [
      "target                NO  YES\n",
      "Claim.Line.Number            \n",
      "1                  30372  105\n",
      "2                  18021  106\n",
      "3                  11212  138\n",
      "4                   9209  182\n",
      "5                   7898  178\n",
      "6                   6766  168\n",
      "7                   6017  163\n",
      "8                   5356  114\n",
      "9                   4738   93\n",
      "10                  4235   72\n",
      "11                  3771   58\n",
      "12                  3342   50\n",
      "13                  2942   47\n",
      "14                  2609   27\n",
      "15                  2306   28\n",
      "16                  2056   23\n",
      "17                  1827   22\n",
      "18                  1634   19\n",
      "19                  1515   20\n",
      "20                  1339   20\n",
      "21                  1217   23\n",
      "22                  1103   15\n",
      "23                  1011   14\n",
      "24                   935   15\n",
      "25                   873   15\n",
      "26                   798   15\n",
      "27                   733   10\n",
      "28                   675    9\n",
      "29                   642   12\n",
      "30                   594   10\n",
      "...                  ...  ...\n",
      "106                    3    0\n",
      "107                    3    0\n",
      "108                    3    0\n",
      "109                    3    0\n",
      "110                    3    0\n",
      "111                    3    0\n",
      "112                    3    0\n",
      "113                    3    0\n",
      "114                    3    0\n",
      "115                    2    0\n",
      "116                    2    0\n",
      "117                    1    0\n",
      "118                    1    0\n",
      "119                    1    0\n",
      "120                    1    0\n",
      "121                    1    0\n",
      "122                    1    0\n",
      "123                    1    0\n",
      "124                    1    0\n",
      "125                    1    0\n",
      "128                    1    0\n",
      "129                    1    0\n",
      "130                    1    0\n",
      "131                    1    0\n",
      "132                    1    0\n",
      "133                    1    0\n",
      "134                    1    0\n",
      "135                    1    0\n",
      "136                    1    0\n",
      "137                    1    0\n",
      "\n",
      "[135 rows x 2 columns]\n",
      "target           NO  YES\n",
      "Provider.ID             \n",
      "FA0001387001   6034  265\n",
      "FA0001387002  36520  664\n",
      "FA0001389001  33367  254\n",
      "FA0001389003   3163  102\n",
      "FA0001389004    135    2\n",
      "FA0001411001  42515  341\n",
      "FA0001411002    119    0\n",
      "FA0001411003    310    0\n",
      "FA0001422001   1006  251\n",
      "FA0001774001   6906    8\n",
      "FA0001774002   1524   37\n",
      "FA0004551001   4013    5\n",
      "FA1000014001   2030    0\n",
      "FA1000014002    114    0\n",
      "FA1000015001   5897   22\n",
      "FA1000015002    108    0\n",
      "FA1000016001    710    0\n",
      "FA1000016002     15    0\n",
      "PG0024271001      1    0\n",
      "PG0024271003      0    1\n",
      "PG0024278003      6    0\n",
      "PG0024278005      2   19\n",
      "PG0024370001      5    0\n",
      "PG0024370002     10    0\n",
      "PG0024370006     44    0\n",
      "PG0043644001      4    0\n",
      "target                  NO   YES\n",
      "Line.Of.Business.ID             \n",
      "1                    71444  1415\n",
      "2                     9302   189\n",
      "5                    53662   344\n",
      "7                       51    23\n",
      "13                    8270     0\n",
      "target          NO  YES\n",
      "Revenue.Code           \n",
      "0024             3    0\n",
      "0100             1    0\n",
      "0111           692    3\n",
      "0112           197    1\n",
      "0113             1    0\n",
      "0116             1    0\n",
      "0117           101    1\n",
      "0118             7    0\n",
      "0120           145    0\n",
      "0121           715    7\n",
      "0122           678    7\n",
      "0123            11    0\n",
      "0124           115   45\n",
      "0126            93    3\n",
      "0127            17    1\n",
      "0128            77    4\n",
      "0129             5    0\n",
      "0134            54    1\n",
      "0136            23    0\n",
      "0137             1    0\n",
      "0171           773    1\n",
      "0172            37    1\n",
      "0173            28    1\n",
      "0174            17    2\n",
      "0179             3    0\n",
      "0200           271    9\n",
      "0206           767   15\n",
      "0208            23    0\n",
      "0210           141    2\n",
      "0249            81    1\n",
      "...            ...  ...\n",
      "0761          1458    2\n",
      "0762          1587    3\n",
      "0771           153    5\n",
      "0801            18    0\n",
      "0803             1    0\n",
      "0810             0    1\n",
      "0811             0    1\n",
      "0812             3    0\n",
      "0821           710   34\n",
      "0822           392    0\n",
      "0832             1    0\n",
      "0851           271    0\n",
      "0881           363    0\n",
      "0900             3    0\n",
      "0901            28    0\n",
      "0905            17    0\n",
      "0912           581    0\n",
      "0913            26    0\n",
      "0914            28   18\n",
      "0915           299    0\n",
      "0916           103    0\n",
      "0918             2    0\n",
      "0920           185    1\n",
      "0921           500    5\n",
      "0922             6    0\n",
      "0940            71    1\n",
      "0941             3    0\n",
      "0942           140    1\n",
      "0943          1136    0\n",
      "0949            23    0\n",
      "\n",
      "[160 rows x 2 columns]\n",
      "target           NO  YES\n",
      "Service.Code            \n",
      "AE7O              9    0\n",
      "AL7I          12782  450\n",
      "BJ7Y              1    0\n",
      "BS7O            322    0\n",
      "CC7I            141    2\n",
      "CC8A             14    0\n",
      "CD7O            877    0\n",
      "CL7O             61    1\n",
      "CO7Y            436    0\n",
      "CO8Y              4    0\n",
      "CR7O           1136    0\n",
      "CS8Y             13    0\n",
      "CT7I            326   10\n",
      "CT7O            336    1\n",
      "CT7Y           1687    1\n",
      "CT8Y            133    1\n",
      "DB7Y             13    0\n",
      "DI7O           2599   57\n",
      "DII               2    0\n",
      "DM7O             18    0\n",
      "DR2I              1    0\n",
      "DU7O            117   34\n",
      "EC7O             25    0\n",
      "ER7I            368   31\n",
      "ER7O           7302   16\n",
      "GB7A              9    7\n",
      "HV7I           1090   56\n",
      "IC7I            294    9\n",
      "ID7Y             34    0\n",
      "IH7O           1002  327\n",
      "...             ...  ...\n",
      "RM8W            104   41\n",
      "RM9I              6    1\n",
      "RM9W             44    0\n",
      "RR7I              7    0\n",
      "RR8I             71    4\n",
      "RT7I              1    0\n",
      "RT8I             50    1\n",
      "RT9I             19    0\n",
      "RV7W             59    0\n",
      "RV8W            176    1\n",
      "RY7I             54    1\n",
      "RY7W             84    0\n",
      "RY8I            261    1\n",
      "RY8W            241    5\n",
      "SA7A             37    0\n",
      "SA7Y              1    0\n",
      "SB7W             68    4\n",
      "SB7Y            139    0\n",
      "SB8W              1    0\n",
      "SI7Y              8    0\n",
      "ST7O            424    0\n",
      "ST7X            115    0\n",
      "SU7A          15982  592\n",
      "SU7O             23    0\n",
      "SVZ               2    0\n",
      "TE7O            180    2\n",
      "TH7O           8634    3\n",
      "TH7X           1592    0\n",
      "TO7W              3    2\n",
      "UNI               5   20\n",
      "\n",
      "[112 rows x 2 columns]\n",
      "target                 NO  YES\n",
      "Place.Of.Service.Code         \n",
      "11                     23   20\n",
      "21                     13    0\n",
      "target           NO   YES\n",
      "Price.Index              \n",
      "A            123172  1463\n",
      "E              2867     0\n",
      "target                 NO   YES\n",
      "In.Out.Of.Network              \n",
      "I                  139789  1928\n",
      "O                    2021    43\n",
      "target              NO   YES\n",
      "Reference.Index             \n",
      "F                  119     8\n",
      "N                87238   928\n",
      "V                57201  1035\n",
      "target             NO   YES\n",
      "Pricing.Index              \n",
      "F                1336    26\n",
      "N              133453  1750\n",
      "V                9235   188\n",
      "W                 534     7\n",
      "target               NO   YES\n",
      "Capitation.Index             \n",
      "N                 76811  1627\n",
      "R                  3038     0\n",
      "target          NO   YES\n",
      "Claim.Type              \n",
      "E             8765     0\n",
      "M           135793  1971\n",
      "target                     NO   YES\n",
      "Claim.Subscriber.Type              \n",
      "H                      144522  1951\n",
      "M                          36    20\n",
      "target                     NO  YES\n",
      "Claim.Pre.Prince.Index            \n",
      "E                        1070    0\n",
      "S                       52592  344\n",
      "target                    NO   YES\n",
      "Claim.Current.Status              \n",
      "1                       2337    74\n",
      "2                     119041  1579\n",
      "11                      6000    33\n",
      "15                      1411     0\n",
      "19                      2559     0\n",
      "91                     10247   250\n",
      "99                      2963    35\n",
      "target           NO   YES\n",
      "Network.ID               \n",
      "H00000000001   3049    51\n",
      "H00000000002    409     0\n",
      "H00000000003    348    13\n",
      "H00000000004     60     0\n",
      "H00000000011      9     0\n",
      "ITS000000004   1657     0\n",
      "MGMAPD000001    736     0\n",
      "MIMAPD000001   3500     0\n",
      "MIMAPD000002   3671     0\n",
      "P00000000001  59137   477\n",
      "P00000000002   9025   189\n",
      "P00000000003    209    23\n",
      "P00000000007  58630  1176\n",
      "P00000000008     28     0\n",
      "P00000000009      5     0\n",
      "target           NO  YES\n",
      "Agreement.ID            \n",
      "A00BLCH0Q001    799    0\n",
      "A00ITS01Q001   1657    0\n",
      "A00MANL0QM01   1501    0\n",
      "FD000001QB01   3677    5\n",
      "FH000000Q001    145   22\n",
      "FH000595QB01   6168    5\n",
      "FH001309QB01  15781  145\n",
      "FH001310QB01  23217  277\n",
      "FH001311QB01  24472  358\n",
      "FH001884QH01    427    0\n",
      "FH001885QH01    879    0\n",
      "FH001886QH01    694    0\n",
      "FH002441QPD1   1573   40\n",
      "FH002449QPD1  16329  571\n",
      "FH002451QPD1  18785  315\n",
      "FH002454QPD1  18680  213\n",
      "LH000595QM01    352    0\n",
      "P00000NS0BA1     47   19\n",
      "P00000NS0H01      1    0\n",
      "P00000PS0B01      2    0\n",
      "P00001NS0B01      1    0\n",
      "PH300000QB01      0    1\n",
      "PI003090QH01      9    0\n",
      "PI003241QM01   2461    0\n",
      "PI003241QM03   1040    0\n",
      "PI003241QM04     11    0\n",
      "PI003247QM01    879    0\n",
      "PI003247QM03   2889    0\n"
     ]
    }
   ],
   "source": [
    "#X = df[categorical+indices+medical_idx+user_id]\n",
    "X = df[medical_idx]\n",
    "X.head()\n",
    "# look at distribution of YES/NO depending on categorical features\n",
    "for label in categorical:\n",
    "    print pd.crosstab(df[label],df['target'])\n",
    "\n",
    "# takes too much computation...\n",
    "# X_dum = pd.get_dummies(X)\n",
    "# X_dum.head()\n",
    "#mca_ben = mca.mca(X_dum)"
   ]
  },
  {
   "cell_type": "markdown",
   "metadata": {},
   "source": [
    "# Correlation of Continuous Features"
   ]
  },
  {
   "cell_type": "markdown",
   "metadata": {},
   "source": [
    "- The continuous features claim.charge.amount and provider.payment.amount are correlated (r~0.54), which makes sense\n",
    "- when trying to predict target only from continuous variables, results were poor. so we decide to look at categorical features for prediction"
   ]
  },
  {
   "cell_type": "code",
   "execution_count": 12,
   "metadata": {
    "collapsed": false
   },
   "outputs": [
    {
     "name": "stdout",
     "output_type": "stream",
     "text": [
      "                           Claim.Charge.Amount  Subscriber.Payment.Amount  \\\n",
      "Claim.Charge.Amount                   1.000000                   0.006007   \n",
      "Subscriber.Payment.Amount             0.006007                   1.000000   \n",
      "Provider.Payment.Amount               0.536622                   0.001362   \n",
      "\n",
      "                           Provider.Payment.Amount  \n",
      "Claim.Charge.Amount                       0.536622  \n",
      "Subscriber.Payment.Amount                 0.001362  \n",
      "Provider.Payment.Amount                   1.000000  \n"
     ]
    },
    {
     "data": {
      "image/png": "[encoded data removed]",
      "text/plain": [
       "<matplotlib.figure.Figure at 0x10ed5b090>"
      ]
     },
     "metadata": {},
     "output_type": "display_data"
    }
   ],
   "source": [
    "plt.imshow(abs(df[continuous].corr()) , interpolation='nearest')\n",
    "ax = plt.axes()\n",
    "plt.colorbar()\n",
    "#ax.set_xticks(range(len(df.corr().columns)))\n",
    "ax.set_xticks(range(len(df.columns)))\n",
    "ax.set_xticklabels(df[continuous].columns, rotation=90)\n",
    "ax.set_yticks(range(len(df.columns)))\n",
    "ax.set_yticklabels(df[continuous].columns)\n",
    "plt.plot()\n",
    "print abs(df[continuous].corr())"
   ]
  },
  {
   "cell_type": "markdown",
   "metadata": {},
   "source": [
    "# Percentage of null values in categorical features"
   ]
  },
  {
   "cell_type": "markdown",
   "metadata": {},
   "source": [
    "- place.of.service.code feature has consistently 99% NaN accross classes so we could get rid of it\n",
    "- price.index, capitation.index, claim.pre.prince.index have also >15% NaN"
   ]
  },
  {
   "cell_type": "code",
   "execution_count": 13,
   "metadata": {
    "collapsed": false
   },
   "outputs": [],
   "source": [
    "denials = df[df.target=='YES']\n",
    "approvals = df[df.target=='NO']"
   ]
  },
  {
   "cell_type": "code",
   "execution_count": 14,
   "metadata": {
    "collapsed": false
   },
   "outputs": [
    {
     "name": "stdout",
     "output_type": "stream",
     "text": [
      "---- denials\n",
      "Claim.Line.Number         0.000000\n",
      "Provider.ID               0.000000\n",
      "Line.Of.Business.ID       0.000000\n",
      "Revenue.Code              0.010147\n",
      "Service.Code              0.000000\n",
      "Place.Of.Service.Code     0.989853\n",
      "Price.Index               0.257737\n",
      "In.Out.Of.Network         0.000000\n",
      "Reference.Index           0.000000\n",
      "Pricing.Index             0.000000\n",
      "Capitation.Index          0.174531\n",
      "Claim.Type                0.000000\n",
      "Claim.Subscriber.Type     0.000000\n",
      "Claim.Pre.Prince.Index    0.825469\n",
      "Claim.Current.Status      0.000000\n",
      "Network.ID                0.021309\n",
      "Agreement.ID              0.000000\n",
      "dtype: float64\n",
      "---- approvals\n",
      "Claim.Line.Number         0.000000\n",
      "Provider.ID               0.000000\n",
      "Line.Of.Business.ID       0.012652\n",
      "Revenue.Code              0.000249\n",
      "Service.Code              0.000000\n",
      "Place.Of.Service.Code     0.999751\n",
      "Price.Index               0.128108\n",
      "In.Out.Of.Network         0.019010\n",
      "Reference.Index           0.000000\n",
      "Pricing.Index             0.000000\n",
      "Capitation.Index          0.447633\n",
      "Claim.Type                0.000000\n",
      "Claim.Subscriber.Type     0.000000\n",
      "Claim.Pre.Prince.Index    0.628786\n",
      "Claim.Current.Status      0.000000\n",
      "Network.ID                0.028259\n",
      "Agreement.ID              0.014403\n",
      "dtype: float64\n"
     ]
    }
   ],
   "source": [
    "X = denials[categorical]\n",
    "print \"---- denials\"\n",
    "print 1-(X.count()/X.shape[0])\n",
    "X = approvals[categorical]\n",
    "print \"---- approvals\"\n",
    "print 1-(X.count()/X.shape[0])"
   ]
  },
  {
   "cell_type": "code",
   "execution_count": 15,
   "metadata": {
    "collapsed": false
   },
   "outputs": [
    {
     "name": "stdout",
     "output_type": "stream",
     "text": [
      "---- denials\n",
      "Procedure.Code    0.335363\n",
      "Diagnosis.Code    0.000000\n",
      "dtype: float64\n",
      "---- approvals\n",
      "Procedure.Code    0.191563\n",
      "Diagnosis.Code    0.000000\n",
      "dtype: float64\n"
     ]
    }
   ],
   "source": [
    "X = denials[medical_idx]\n",
    "print \"---- denials\"\n",
    "print 1-(X.count()/X.shape[0])\n",
    "X = approvals[medical_idx]\n",
    "print \"---- approvals\"\n",
    "print 1-(X.count()/X.shape[0])"
   ]
  },
  {
   "cell_type": "markdown",
   "metadata": {},
   "source": []
  },
  {
   "cell_type": "code",
   "execution_count": null,
   "metadata": {
    "collapsed": true
   },
   "outputs": [],
   "source": []
  },
  {
   "cell_type": "markdown",
   "metadata": {},
   "source": [
    "# Encode features and target"
   ]
  },
  {
   "cell_type": "markdown",
   "metadata": {},
   "source": [
    "- knowing nothing else about the features than their labels, we decide to encode them as categorical (and not ordinal, where we could just replace categories by ordered numbers)\n",
    "- for this we use one hot encoding, which significantly increases the dimensionality of the feature space. We will make sure that we can generalize the classifier and won't overfit by using cross-validation."
   ]
  },
  {
   "cell_type": "code",
   "execution_count": 16,
   "metadata": {
    "collapsed": false
   },
   "outputs": [
    {
     "name": "stdout",
     "output_type": "stream",
     "text": [
      "(146529, 24)\n",
      "(146529, 212751)\n",
      "['NO' 'YES']\n"
     ]
    },
    {
     "name": "stderr",
     "output_type": "stream",
     "text": [
      "/usr/local/lib/python2.7/site-packages/numpy/lib/arraysetops.py:200: FutureWarning: numpy not_equal will not check object identity in the future. The comparison did not return the same result as suggested by the identity (`is`)) and will change.\n",
      "  flag = np.concatenate(([True], aux[1:] != aux[:-1]))\n"
     ]
    }
   ],
   "source": [
    "#X = df[categorical+indices+medical_idx+user_id+continuous]\n",
    "X = df[categorical+indices+medical_idx+user_id]\n",
    "# X = df[categorical+medical_idx+user_id+continuous]\n",
    "# X = df[categorical+medical_idx+continuous]\n",
    "print X.shape\n",
    "\n",
    "# Encode features\n",
    "feature_le = preprocessing.LabelEncoder()\n",
    "X = X.apply(feature_le.fit_transform)\n",
    "\n",
    "ohe = preprocessing.OneHotEncoder()\n",
    "ohe.fit(X)\n",
    "X = ohe.transform(X)\n",
    "print X.shape\n",
    "# Encode binary target\n",
    "target_le = preprocessing.LabelEncoder()\n",
    "target_le.fit(df.target)\n",
    "print target_le.classes_\n",
    "y = target_le.transform(target)"
   ]
  },
  {
   "cell_type": "markdown",
   "metadata": {},
   "source": []
  },
  {
   "cell_type": "markdown",
   "metadata": {
    "collapsed": false
   },
   "source": []
  },
  {
   "cell_type": "code",
   "execution_count": null,
   "metadata": {
    "collapsed": false
   },
   "outputs": [],
   "source": []
  },
  {
   "cell_type": "markdown",
   "metadata": {},
   "source": [
    "# Split data into train and test sets"
   ]
  },
  {
   "cell_type": "markdown",
   "metadata": {},
   "source": [
    "- we leave 20% of the data for testing and 80% for training"
   ]
  },
  {
   "cell_type": "code",
   "execution_count": 17,
   "metadata": {
    "collapsed": false
   },
   "outputs": [],
   "source": [
    "X_train, X_test, y_train, y_test = cross_validation.train_test_split(X, y, test_size=.20)"
   ]
  },
  {
   "cell_type": "markdown",
   "metadata": {},
   "source": [
    "# Machine learning models"
   ]
  },
  {
   "cell_type": "markdown",
   "metadata": {},
   "source": [
    "- we compared several standard classifiers and found that logistic regression and random forest tended to perform better\n",
    "-  we use the option class_weight='balanced' to take into account the fact that our dataset is unbalanced"
   ]
  },
  {
   "cell_type": "code",
   "execution_count": 29,
   "metadata": {
    "collapsed": false
   },
   "outputs": [],
   "source": [
    "models = {}\n",
    "models['lr'] = linear_model.LogisticRegression(n_jobs=-1, class_weight='balanced')\n",
    "# models['pac'] = linear_model.PassiveAggressiveClassifier(n_jobs=-1)\n",
    "# models['sgdc'] = linear_model.SGDClassifier(n_jobs=-1) #, class_weight='balanced')\n",
    "# # models['ridge'] = linear_model.RidgeClassifier(class_weight='balanced')\n",
    "# # models['svm'] = svm.SVC() # kernel='rbf', probability=True, class_weight='balanced')\n",
    "# # models['nb'] = naive_bayes.GaussianNB()\n",
    "# # models['gbc'] = ensemble.GradientBoostingClassifier()\n",
    "models['rfc'] = ensemble.RandomForestClassifier(n_jobs=-1, class_weight='balanced')\n",
    "# models['etc'] = ensemble.ExtraTreesClassifier(n_jobs=-1, class_weight='balanced')\n",
    "# models['knc'] = neighbors.KNeighborsClassifier(n_jobs=-1)"
   ]
  },
  {
   "cell_type": "markdown",
   "metadata": {
    "collapsed": false
   },
   "source": [
    "# Cross validated metrics"
   ]
  },
  {
   "cell_type": "markdown",
   "metadata": {},
   "source": [
    "- we want to make sure that our classifier can generalize and compute f1 scores on a 3 fold cross validation set\n",
    "- we chose f1 because of our unbalanced data. we want to have a good tradeoff between precision and recall"
   ]
  },
  {
   "cell_type": "code",
   "execution_count": 30,
   "metadata": {
    "collapsed": false
   },
   "outputs": [
    {
     "name": "stdout",
     "output_type": "stream",
     "text": [
      "---rfc\n",
      "0.658404077205\n",
      "---lr\n",
      "0.742292668676\n"
     ]
    }
   ],
   "source": [
    "for algo in models:\n",
    "    model = models[algo]\n",
    "    cv = cross_validation.StratifiedKFold(y_train, n_folds=3, shuffle=True)\n",
    "    # scoring: 'accuracy, f1, recall, roc_auc'\n",
    "    # scores = cross_validation.cross_val_score(model, X_train, y_train, cv=cv, scoring='roc_auc')\n",
    "    scores = cross_validation.cross_val_score(model, X_train, y_train, cv=cv, scoring='f1')\n",
    "    print \"---\" + algo\n",
    "    print scores.mean() # , sem(scores)"
   ]
  },
  {
   "cell_type": "markdown",
   "metadata": {},
   "source": [
    "# Classification report on test set"
   ]
  },
  {
   "cell_type": "markdown",
   "metadata": {},
   "source": [
    "- ultimately we want to look at precision, recall and f1 on the test set\n",
    "- we notice that precision is not as good as we could hope for\n",
    "- for our use case it's probably more important to have good precision than good recall (we'd rather not wrongly deny a claim, at the price of allowing ourselves to miss a few claims that should be denied)"
   ]
  },
  {
   "cell_type": "code",
   "execution_count": 31,
   "metadata": {
    "collapsed": false
   },
   "outputs": [
    {
     "name": "stdout",
     "output_type": "stream",
     "text": [
      "----rfc\n",
      "             precision    recall  f1-score   support\n",
      "\n",
      "          0       0.99      1.00      1.00     28929\n",
      "          1       0.95      0.56      0.70       377\n",
      "\n",
      "avg / total       0.99      0.99      0.99     29306\n",
      "\n",
      "----lr\n",
      "             precision    recall  f1-score   support\n",
      "\n",
      "          0       1.00      0.99      1.00     28929\n",
      "          1       0.68      0.92      0.78       377\n",
      "\n",
      "avg / total       0.99      0.99      0.99     29306\n",
      "\n"
     ]
    }
   ],
   "source": [
    "# When making predictions, retrain the model on the whole training set\n",
    "for algo in models:\n",
    "  print \"----\"+ algo\n",
    "  model = models[algo]\n",
    "  if algo == 'gbc':\n",
    "    model.fit(X_train.todense(), y_train)\n",
    "  else:\n",
    "    model.fit(X_train, y_train)\n",
    "  preds = model.predict(X_test)\n",
    "  print metrics.classification_report(y_test, preds)"
   ]
  },
  {
   "cell_type": "markdown",
   "metadata": {},
   "source": [
    "- here we can see how the 2 classifiers have different behaviors random forest being better at precision and poor at recall and vice versa for logistic regression\n",
    "- depending on our final objective we can choose to emphasize one versus the other\n",
    "- here we choose to optimize logistic regression regularization parameter in order to increase precision"
   ]
  },
  {
   "cell_type": "markdown",
   "metadata": {},
   "source": [
    "# Learning Curve"
   ]
  },
  {
   "cell_type": "markdown",
   "metadata": {},
   "source": [
    "- learning curves allows to see if the model suffer from high variance or bias (e.g. does adding more sample improves the score?)\n",
    "- we choose f1 score for learning curve as it expresses a combination of precision and recall\n",
    "- precision/recall curve and roc_curve show how the binary classifier behaves"
   ]
  },
  {
   "cell_type": "code",
   "execution_count": 32,
   "metadata": {
    "collapsed": false
   },
   "outputs": [
    {
     "name": "stdout",
     "output_type": "stream",
     "text": [
      "[learning_curve] Training set sizes: [ 7814 25398 42981 60564 78148]\n"
     ]
    },
    {
     "name": "stderr",
     "output_type": "stream",
     "text": [
      "[Parallel(n_jobs=1)]: Done  15 out of  15 | elapsed:  1.2min finished\n"
     ]
    },
    {
     "data": {
      "image/png": "[encoded data removed]",
      "text/plain": [
       "<matplotlib.figure.Figure at 0x10fc3fc10>"
      ]
     },
     "metadata": {},
     "output_type": "display_data"
    }
   ],
   "source": [
    "learning_curves(X_train, y_train, models['rfc'], scoring='f1', cv=3)"
   ]
  },
  {
   "cell_type": "code",
   "execution_count": 60,
   "metadata": {
    "collapsed": false
   },
   "outputs": [
    {
     "name": "stdout",
     "output_type": "stream",
     "text": [
      "[learning_curve] Training set sizes: [ 7814 25398 42981 60564 78148]\n"
     ]
    },
    {
     "name": "stderr",
     "output_type": "stream",
     "text": [
      "[Parallel(n_jobs=1)]: Done  15 out of  15 | elapsed:   22.1s finished\n"
     ]
    },
    {
     "data": {
      "image/png": "[encoded data removed]",
      "text/plain": [
       "<matplotlib.figure.Figure at 0x113161090>"
      ]
     },
     "metadata": {},
     "output_type": "display_data"
    }
   ],
   "source": [
    "learning_curves(X_train, y_train, linear_model.LogisticRegression(n_jobs=-1, class_weight='balanced'), scoring='f1', cv=3)"
   ]
  },
  {
   "cell_type": "markdown",
   "metadata": {},
   "source": [
    "- the cross-validation score curve for logistic regression increases with number of samples, which suggests that by adding more data we could improve our classifier\n",
    "- there is a bias towards 0.85 for f1\n",
    "- we will try to find the best regularization parameter for logistic regression to increase precision"
   ]
  },
  {
   "cell_type": "code",
   "execution_count": 21,
   "metadata": {
    "collapsed": false
   },
   "outputs": [
    {
     "data": {
      "image/png": "[encoded data removed]",
      "text/plain": [
       "<matplotlib.figure.Figure at 0x10ed51610>"
      ]
     },
     "metadata": {},
     "output_type": "display_data"
    }
   ],
   "source": [
    "precision_recall_curve(models['lr'], X_test, y_test)"
   ]
  },
  {
   "cell_type": "markdown",
   "metadata": {},
   "source": [
    "- the precision recall curve gives us an idea of the tradeoff we can hope for. it looks like ~0.85% for both precision and recall is achievable"
   ]
  },
  {
   "cell_type": "code",
   "execution_count": 33,
   "metadata": {
    "collapsed": false
   },
   "outputs": [
    {
     "data": {
      "image/png": "[encoded data removed]",
      "text/plain": [
       "<matplotlib.figure.Figure at 0x10fa13e50>"
      ]
     },
     "metadata": {},
     "output_type": "display_data"
    }
   ],
   "source": [
    "roc_curve(models['lr'], X_test, y_test)"
   ]
  },
  {
   "cell_type": "markdown",
   "metadata": {},
   "source": [
    "# Feature selection"
   ]
  },
  {
   "cell_type": "markdown",
   "metadata": {},
   "source": [
    "- recursive feature elimination on this dataset takes too long\n",
    "- with more time (or more cores/computers) I would investigate more techniques"
   ]
  },
  {
   "cell_type": "code",
   "execution_count": null,
   "metadata": {
    "collapsed": false
   },
   "outputs": [],
   "source": [
    "# rfecv = feature_selection.RFECV(\n",
    "#     estimator=models['lr'],\n",
    "#     step=1, cv=cross_validation.StratifiedKFold(y_train, 2),\n",
    "#     scoring='f1')\n",
    "# rfecv.fit(X_train, y_train)\n",
    "#rfe = feature_selection.RFE(estimator = models['lr'], step =10)\n",
    "#rfe.fit(X_train, y_train)\n",
    "model = linear_model.LogisticRegression(n_jobs=-1)\n",
    "# fs = feature_selection.SelectKBest(feature_selection.f_classif, k=212700)\n",
    "# fs = decomposition.TruncatedSVD(n_components=10000)\n",
    "# X_train_reduced = fs.fit_transform(X_train, y_train)\n",
    "# np.shape(X_train_reduced)\n",
    "# X_test_reduced = fs.fit_transform(X_test, y_test)\n",
    "# np.shape(X_test_reduced)\n",
    "# model.fit(X_train_reduced, y_train)\n",
    "# preds = model.predict(X_test_reduced)\n",
    "# print metrics.classification_report(y_test, preds)\n",
    "# metrics.confusion_matrix(y_test, preds)"
   ]
  },
  {
   "cell_type": "code",
   "execution_count": 34,
   "metadata": {
    "collapsed": false
   },
   "outputs": [],
   "source": [
    "# X_train_reduced.shape"
   ]
  },
  {
   "cell_type": "code",
   "execution_count": null,
   "metadata": {
    "collapsed": true
   },
   "outputs": [],
   "source": [
    "# print(\"Optimal number of features : %d\" % rfecv.n_features_)\n",
    "\n",
    "# # Plot number of features VS. cross-validation scores\n",
    "# plt.figure()\n",
    "# plt.xlabel(\"Number of features selected\")\n",
    "# plt.ylabel(\"Cross validation score (nb of correct classifications)\")\n",
    "# plt.plot(range(1, len(rfecv.grid_scores_) + 1), rfecv.grid_scores_)\n",
    "# plt.show()"
   ]
  },
  {
   "cell_type": "markdown",
   "metadata": {
    "collapsed": false
   },
   "source": [
    "# Hyperparameter CV optimization "
   ]
  },
  {
   "cell_type": "markdown",
   "metadata": {},
   "source": [
    "- we tune the regularization (or inverse regularization parameter in sklearn) parameter to increase the precision of the classifier "
   ]
  },
  {
   "cell_type": "code",
   "execution_count": 26,
   "metadata": {
    "collapsed": false
   },
   "outputs": [
    {
     "name": "stdout",
     "output_type": "stream",
     "text": [
      "Fitting 3 folds for each of 10 candidates, totalling 30 fits\n",
      "------------------------------------------------------------------------\n",
      "best parameters:\n",
      "{'C': 1000000}\n",
      "best score:\n",
      "0.825878325367\n",
      "------------------------------------------------------------------------\n",
      "Best parameters set found on cross-validation set:\n",
      "LogisticRegression(C=1000000, class_weight='balanced', dual=False,\n",
      "          fit_intercept=True, intercept_scaling=1, max_iter=100,\n",
      "          multi_class='ovr', n_jobs=-1, penalty='l2', random_state=None,\n",
      "          solver='liblinear', tol=0.0001, verbose=0, warm_start=False)\n",
      "------------------------------------------------------------------------\n",
      "Grid scores on CV set:\n",
      "0.338 (+/-0.004) for {'C': 0.01}\n",
      "0.569 (+/-0.018) for {'C': 0.5}\n",
      "0.619 (+/-0.017) for {'C': 1}\n",
      "0.744 (+/-0.015) for {'C': 10}\n",
      "0.786 (+/-0.013) for {'C': 100}\n",
      "0.807 (+/-0.010) for {'C': 1000}\n",
      "0.816 (+/-0.010) for {'C': 10000}\n",
      "0.823 (+/-0.011) for {'C': 100000}\n",
      "0.826 (+/-0.011) for {'C': 1000000}\n",
      "0.824 (+/-0.011) for {'C': 10000000}\n",
      "------------------------------------------------------------------------\n",
      "Classification report on test set:\n",
      "             precision    recall  f1-score   support\n",
      "\n",
      "          0       1.00      1.00      1.00     28929\n",
      "          1       0.88      0.83      0.85       377\n",
      "\n",
      "avg / total       1.00      1.00      1.00     29306\n",
      "\n"
     ]
    },
    {
     "name": "stderr",
     "output_type": "stream",
     "text": [
      "[Parallel(n_jobs=-1)]: Done  30 out of  30 | elapsed:   52.9s finished\n"
     ]
    }
   ],
   "source": [
    "# do hyperparameter optimization on cross validation set\n",
    "#parameters = [{'n_estimators': [40, 50], 'max_features': ['auto', 'sqrt']}]\n",
    "# parameters = {\"max_depth\": [3, None],\n",
    "#               \"max_features\": sp_randint(1, 11),\n",
    "#               \"min_samples_split\": sp_randint(1, 11),\n",
    "#               \"min_samples_leaf\": sp_randint(1, 11),\n",
    "#               \"bootstrap\": [True, False],\n",
    "#               \"criterion\": [\"gini\", \"entropy\"],\n",
    "# #               'n_estimators': [20, 40, 80, 160],\n",
    "# #               'max_features': ['auto', 'sqrt']\n",
    "#              }\n",
    "# parameters = {'C': [0.1, 0.5, 1, 10, 100, 1000, 10000, 100000, 1000000, 10000000]}\n",
    "parameters = {'C': [0.01, 0.5, 1, 10, 100, 1000, 10000, 100000, 1000000, 10000000]}\n",
    "\n",
    "model = model_selection(X_train,X_test,y_train,y_test,parameters,models['lr'], scoring='precision')"
   ]
  },
  {
   "cell_type": "code",
   "execution_count": 25,
   "metadata": {
    "collapsed": false
   },
   "outputs": [],
   "source": [
    "#learning_curves(X_train, y_train, model, scoring='precision', cv=3)"
   ]
  },
  {
   "cell_type": "code",
   "execution_count": 27,
   "metadata": {
    "collapsed": false
   },
   "outputs": [
    {
     "name": "stdout",
     "output_type": "stream",
     "text": [
      "Fitting 3 folds for each of 10 candidates, totalling 30 fits\n",
      "             precision    recall  f1-score   support\n",
      "\n",
      "          0       1.00      1.00      1.00     28929\n",
      "          1       0.88      0.83      0.85       377\n",
      "\n",
      "avg / total       1.00      1.00      1.00     29306\n",
      "\n"
     ]
    },
    {
     "name": "stderr",
     "output_type": "stream",
     "text": [
      "[Parallel(n_jobs=-1)]: Done  30 out of  30 | elapsed:   51.7s finished\n"
     ]
    }
   ],
   "source": [
    "model.fit(X_train, y_train)\n",
    "preds = model.predict(X_test)\n",
    "print metrics.classification_report(y_test, preds)"
   ]
  },
  {
   "cell_type": "markdown",
   "metadata": {},
   "source": [
    "# Summary"
   ]
  },
  {
   "cell_type": "markdown",
   "metadata": {},
   "source": [
    "- we managed to obtain a satisfying trade-off precision/recall by using cross validation and hyper parameter optimization on logistic regression\n",
    "- 88% of the predicted denials are correct (precision) and we retrieve 83% of the total correct denials (recall)\n",
    "- random forest without optimization would give us even better precision (95%) at the detriment of recall"
   ]
  },
  {
   "cell_type": "code",
   "execution_count": null,
   "metadata": {
    "collapsed": true
   },
   "outputs": [],
   "source": []
  }
 ],
 "metadata": {
  "kernelspec": {
   "display_name": "Python 2",
   "language": "python",
   "name": "python2"
  },
  "language_info": {
   "codemirror_mode": {
    "name": "ipython",
    "version": 2
   },
   "file_extension": ".py",
   "mimetype": "text/x-python",
   "name": "python",
   "nbconvert_exporter": "python",
   "pygments_lexer": "ipython2",
   "version": "2.7.10"
  }
 },
 "nbformat": 4,
 "nbformat_minor": 0
}
